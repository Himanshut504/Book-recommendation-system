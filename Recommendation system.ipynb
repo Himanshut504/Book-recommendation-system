{
 "cells": [
  {
   "cell_type": "markdown",
   "id": "5967889e",
   "metadata": {},
   "source": [
    "#  Book Recommendation System\n",
    "\n",
    "- During the last few decades, with the rise of Youtube, Amazon, Netflix, and many other such\n",
    "web services, recommender systems have taken more and more place in our lives. \n",
    "- From e-commerce (suggest to buyers articles that could interest them) to online advertisement\n",
    "(suggest to users the right contents, matching their preferences), recommender systems are\n",
    "today unavoidable in our daily online journeys.\n",
    "- In a very general way, recommender systems are algorithms aimed at suggesting relevant\n",
    "items to users (items being movies to watch, text to read, products to buy, or anything else\n",
    "depending on industries).\n",
    "- Recommender systems are really critical in some industries as they can generate a huge\n",
    "amount of income when they are efficient or also be a way to stand out significantly from\n",
    "competitors. \n",
    "- The main objective is to create a book recommendation system for users."
   ]
  },
  {
   "cell_type": "markdown",
   "id": "02ac9e4e",
   "metadata": {},
   "source": [
    "### Content\n",
    "The Book-Crossing dataset comprises 3 files.\n",
    "- #### Users\n",
    "Contains the users. Note that user IDs (User-ID) have been anonymized and map to\n",
    "integers. Demographic data is provided (Location, Age) if available. Otherwise, these\n",
    "fields contain NULL values.\n",
    "- #### Books\n",
    "Books are identified by their respective ISBN. Invalid ISBNs have already been removed\n",
    "from the dataset. Moreover, some content-based information is given (Book-Title,\n",
    "Book-Author, Year-Of-Publication, Publisher), obtained from Amazon Web\n",
    "Services. Note that in the case of several authors, only the first is provided. URLs linking\n",
    "to cover images are also given, appearing in three different flavors <b>(Image-URL-S,\n",
    "Image-URL-M, Image-URL-L)</b>, i.e., small, medium, large. These URLs point to the\n",
    "Amazon website.\n",
    "- #### Ratings\n",
    "Contains the book rating information. Ratings (Book-Rating) are either explicit,\n",
    "expressed on a scale from 1-10 (higher values denoting higher appreciation), or implicit,\n",
    "expressed by 0."
   ]
  },
  {
   "cell_type": "code",
   "execution_count": 1,
   "id": "b1247855",
   "metadata": {},
   "outputs": [],
   "source": [
    "#Importing the required libraries \n",
    "\n",
    "import pandas as pd\n",
    "import numpy as np\n",
    "import matplotlib.pyplot as plt\n",
    "import seaborn as sns\n",
    "\n",
    "import warnings \n",
    "warnings.filterwarnings('ignore')"
   ]
  },
  {
   "cell_type": "code",
   "execution_count": 2,
   "id": "0cf71f31",
   "metadata": {},
   "outputs": [],
   "source": [
    "#Reading users CSV file\n",
    "users = pd.read_csv('Users.csv', error_bad_lines=False, encoding='latin-1')"
   ]
  },
  {
   "cell_type": "code",
   "execution_count": 3,
   "id": "1df87a35",
   "metadata": {},
   "outputs": [],
   "source": [
    "#Reading Ratings CSV file\n",
    "ratings = pd.read_csv('Ratings.csv',error_bad_lines=False, encoding='latin-1')"
   ]
  },
  {
   "cell_type": "code",
   "execution_count": 4,
   "id": "9b254945",
   "metadata": {},
   "outputs": [],
   "source": [
    "# Reading Books CSV file\n",
    "books = pd.read_csv('Books.csv',  error_bad_lines=False, encoding='latin-1')"
   ]
  },
  {
   "cell_type": "code",
   "execution_count": 5,
   "id": "5b4902fb",
   "metadata": {},
   "outputs": [],
   "source": [
    "# Let's store images URL in another dataset \n",
    "images = pd.read_csv('Books.csv',  error_bad_lines=False, encoding='latin-1')\n",
    "images = images.drop(['ISBN', 'Book-Author', 'Year-Of-Publication', 'Publisher', 'Image-URL-S','Image-URL-L'], axis=1)"
   ]
  },
  {
   "cell_type": "code",
   "execution_count": 6,
   "id": "6a88e5a2",
   "metadata": {},
   "outputs": [
    {
     "data": {
      "text/plain": [
       "(271360, 8)"
      ]
     },
     "execution_count": 6,
     "metadata": {},
     "output_type": "execute_result"
    }
   ],
   "source": [
    "# Shape of the books dataset \n",
    "books.shape"
   ]
  },
  {
   "cell_type": "code",
   "execution_count": 7,
   "id": "a2aeff3d",
   "metadata": {},
   "outputs": [
    {
     "data": {
      "text/plain": [
       "(1149780, 3)"
      ]
     },
     "execution_count": 7,
     "metadata": {},
     "output_type": "execute_result"
    }
   ],
   "source": [
    "# Shape of ratings dataset\n",
    "ratings.shape"
   ]
  },
  {
   "cell_type": "code",
   "execution_count": 8,
   "id": "d54c25a2",
   "metadata": {},
   "outputs": [
    {
     "data": {
      "text/plain": [
       "(278858, 3)"
      ]
     },
     "execution_count": 8,
     "metadata": {},
     "output_type": "execute_result"
    }
   ],
   "source": [
    "# Shape of Users dataset\n",
    "users.shape"
   ]
  },
  {
   "cell_type": "code",
   "execution_count": 9,
   "id": "c82077d8",
   "metadata": {},
   "outputs": [
    {
     "data": {
      "text/html": [
       "<div>\n",
       "<style scoped>\n",
       "    .dataframe tbody tr th:only-of-type {\n",
       "        vertical-align: middle;\n",
       "    }\n",
       "\n",
       "    .dataframe tbody tr th {\n",
       "        vertical-align: top;\n",
       "    }\n",
       "\n",
       "    .dataframe thead th {\n",
       "        text-align: right;\n",
       "    }\n",
       "</style>\n",
       "<table border=\"1\" class=\"dataframe\">\n",
       "  <thead>\n",
       "    <tr style=\"text-align: right;\">\n",
       "      <th></th>\n",
       "      <th>ISBN</th>\n",
       "      <th>Book-Title</th>\n",
       "      <th>Book-Author</th>\n",
       "      <th>Year-Of-Publication</th>\n",
       "      <th>Publisher</th>\n",
       "      <th>Image-URL-S</th>\n",
       "      <th>Image-URL-M</th>\n",
       "      <th>Image-URL-L</th>\n",
       "    </tr>\n",
       "  </thead>\n",
       "  <tbody>\n",
       "    <tr>\n",
       "      <th>0</th>\n",
       "      <td>0195153448</td>\n",
       "      <td>Classical Mythology</td>\n",
       "      <td>Mark P. O. Morford</td>\n",
       "      <td>2002</td>\n",
       "      <td>Oxford University Press</td>\n",
       "      <td>http://images.amazon.com/images/P/0195153448.0...</td>\n",
       "      <td>http://images.amazon.com/images/P/0195153448.0...</td>\n",
       "      <td>http://images.amazon.com/images/P/0195153448.0...</td>\n",
       "    </tr>\n",
       "    <tr>\n",
       "      <th>1</th>\n",
       "      <td>0002005018</td>\n",
       "      <td>Clara Callan</td>\n",
       "      <td>Richard Bruce Wright</td>\n",
       "      <td>2001</td>\n",
       "      <td>HarperFlamingo Canada</td>\n",
       "      <td>http://images.amazon.com/images/P/0002005018.0...</td>\n",
       "      <td>http://images.amazon.com/images/P/0002005018.0...</td>\n",
       "      <td>http://images.amazon.com/images/P/0002005018.0...</td>\n",
       "    </tr>\n",
       "    <tr>\n",
       "      <th>2</th>\n",
       "      <td>0060973129</td>\n",
       "      <td>Decision in Normandy</td>\n",
       "      <td>Carlo D'Este</td>\n",
       "      <td>1991</td>\n",
       "      <td>HarperPerennial</td>\n",
       "      <td>http://images.amazon.com/images/P/0060973129.0...</td>\n",
       "      <td>http://images.amazon.com/images/P/0060973129.0...</td>\n",
       "      <td>http://images.amazon.com/images/P/0060973129.0...</td>\n",
       "    </tr>\n",
       "    <tr>\n",
       "      <th>3</th>\n",
       "      <td>0374157065</td>\n",
       "      <td>Flu: The Story of the Great Influenza Pandemic...</td>\n",
       "      <td>Gina Bari Kolata</td>\n",
       "      <td>1999</td>\n",
       "      <td>Farrar Straus Giroux</td>\n",
       "      <td>http://images.amazon.com/images/P/0374157065.0...</td>\n",
       "      <td>http://images.amazon.com/images/P/0374157065.0...</td>\n",
       "      <td>http://images.amazon.com/images/P/0374157065.0...</td>\n",
       "    </tr>\n",
       "    <tr>\n",
       "      <th>4</th>\n",
       "      <td>0393045218</td>\n",
       "      <td>The Mummies of Urumchi</td>\n",
       "      <td>E. J. W. Barber</td>\n",
       "      <td>1999</td>\n",
       "      <td>W. W. Norton &amp;amp; Company</td>\n",
       "      <td>http://images.amazon.com/images/P/0393045218.0...</td>\n",
       "      <td>http://images.amazon.com/images/P/0393045218.0...</td>\n",
       "      <td>http://images.amazon.com/images/P/0393045218.0...</td>\n",
       "    </tr>\n",
       "  </tbody>\n",
       "</table>\n",
       "</div>"
      ],
      "text/plain": [
       "         ISBN                                         Book-Title  \\\n",
       "0  0195153448                                Classical Mythology   \n",
       "1  0002005018                                       Clara Callan   \n",
       "2  0060973129                               Decision in Normandy   \n",
       "3  0374157065  Flu: The Story of the Great Influenza Pandemic...   \n",
       "4  0393045218                             The Mummies of Urumchi   \n",
       "\n",
       "            Book-Author Year-Of-Publication                   Publisher  \\\n",
       "0    Mark P. O. Morford                2002     Oxford University Press   \n",
       "1  Richard Bruce Wright                2001       HarperFlamingo Canada   \n",
       "2          Carlo D'Este                1991             HarperPerennial   \n",
       "3      Gina Bari Kolata                1999        Farrar Straus Giroux   \n",
       "4       E. J. W. Barber                1999  W. W. Norton &amp; Company   \n",
       "\n",
       "                                         Image-URL-S  \\\n",
       "0  http://images.amazon.com/images/P/0195153448.0...   \n",
       "1  http://images.amazon.com/images/P/0002005018.0...   \n",
       "2  http://images.amazon.com/images/P/0060973129.0...   \n",
       "3  http://images.amazon.com/images/P/0374157065.0...   \n",
       "4  http://images.amazon.com/images/P/0393045218.0...   \n",
       "\n",
       "                                         Image-URL-M  \\\n",
       "0  http://images.amazon.com/images/P/0195153448.0...   \n",
       "1  http://images.amazon.com/images/P/0002005018.0...   \n",
       "2  http://images.amazon.com/images/P/0060973129.0...   \n",
       "3  http://images.amazon.com/images/P/0374157065.0...   \n",
       "4  http://images.amazon.com/images/P/0393045218.0...   \n",
       "\n",
       "                                         Image-URL-L  \n",
       "0  http://images.amazon.com/images/P/0195153448.0...  \n",
       "1  http://images.amazon.com/images/P/0002005018.0...  \n",
       "2  http://images.amazon.com/images/P/0060973129.0...  \n",
       "3  http://images.amazon.com/images/P/0374157065.0...  \n",
       "4  http://images.amazon.com/images/P/0393045218.0...  "
      ]
     },
     "execution_count": 9,
     "metadata": {},
     "output_type": "execute_result"
    }
   ],
   "source": [
    "# Let's see the details of books dataset\n",
    "books.head()"
   ]
  },
  {
   "cell_type": "code",
   "execution_count": 10,
   "id": "dc98adac",
   "metadata": {},
   "outputs": [
    {
     "data": {
      "text/html": [
       "<div>\n",
       "<style scoped>\n",
       "    .dataframe tbody tr th:only-of-type {\n",
       "        vertical-align: middle;\n",
       "    }\n",
       "\n",
       "    .dataframe tbody tr th {\n",
       "        vertical-align: top;\n",
       "    }\n",
       "\n",
       "    .dataframe thead th {\n",
       "        text-align: right;\n",
       "    }\n",
       "</style>\n",
       "<table border=\"1\" class=\"dataframe\">\n",
       "  <thead>\n",
       "    <tr style=\"text-align: right;\">\n",
       "      <th></th>\n",
       "      <th>User-ID</th>\n",
       "      <th>Location</th>\n",
       "      <th>Age</th>\n",
       "    </tr>\n",
       "  </thead>\n",
       "  <tbody>\n",
       "    <tr>\n",
       "      <th>0</th>\n",
       "      <td>1</td>\n",
       "      <td>nyc, new york, usa</td>\n",
       "      <td>NaN</td>\n",
       "    </tr>\n",
       "    <tr>\n",
       "      <th>1</th>\n",
       "      <td>2</td>\n",
       "      <td>stockton, california, usa</td>\n",
       "      <td>18.0</td>\n",
       "    </tr>\n",
       "    <tr>\n",
       "      <th>2</th>\n",
       "      <td>3</td>\n",
       "      <td>moscow, yukon territory, russia</td>\n",
       "      <td>NaN</td>\n",
       "    </tr>\n",
       "    <tr>\n",
       "      <th>3</th>\n",
       "      <td>4</td>\n",
       "      <td>porto, v.n.gaia, portugal</td>\n",
       "      <td>17.0</td>\n",
       "    </tr>\n",
       "    <tr>\n",
       "      <th>4</th>\n",
       "      <td>5</td>\n",
       "      <td>farnborough, hants, united kingdom</td>\n",
       "      <td>NaN</td>\n",
       "    </tr>\n",
       "  </tbody>\n",
       "</table>\n",
       "</div>"
      ],
      "text/plain": [
       "   User-ID                            Location   Age\n",
       "0        1                  nyc, new york, usa   NaN\n",
       "1        2           stockton, california, usa  18.0\n",
       "2        3     moscow, yukon territory, russia   NaN\n",
       "3        4           porto, v.n.gaia, portugal  17.0\n",
       "4        5  farnborough, hants, united kingdom   NaN"
      ]
     },
     "execution_count": 10,
     "metadata": {},
     "output_type": "execute_result"
    }
   ],
   "source": [
    "# Let's see the details of Users dataset\n",
    "users.head()"
   ]
  },
  {
   "cell_type": "code",
   "execution_count": 11,
   "id": "92252e27",
   "metadata": {},
   "outputs": [
    {
     "data": {
      "text/html": [
       "<div>\n",
       "<style scoped>\n",
       "    .dataframe tbody tr th:only-of-type {\n",
       "        vertical-align: middle;\n",
       "    }\n",
       "\n",
       "    .dataframe tbody tr th {\n",
       "        vertical-align: top;\n",
       "    }\n",
       "\n",
       "    .dataframe thead th {\n",
       "        text-align: right;\n",
       "    }\n",
       "</style>\n",
       "<table border=\"1\" class=\"dataframe\">\n",
       "  <thead>\n",
       "    <tr style=\"text-align: right;\">\n",
       "      <th></th>\n",
       "      <th>User-ID</th>\n",
       "      <th>ISBN</th>\n",
       "      <th>Book-Rating</th>\n",
       "    </tr>\n",
       "  </thead>\n",
       "  <tbody>\n",
       "    <tr>\n",
       "      <th>0</th>\n",
       "      <td>276725</td>\n",
       "      <td>034545104X</td>\n",
       "      <td>0</td>\n",
       "    </tr>\n",
       "    <tr>\n",
       "      <th>1</th>\n",
       "      <td>276726</td>\n",
       "      <td>0155061224</td>\n",
       "      <td>5</td>\n",
       "    </tr>\n",
       "    <tr>\n",
       "      <th>2</th>\n",
       "      <td>276727</td>\n",
       "      <td>0446520802</td>\n",
       "      <td>0</td>\n",
       "    </tr>\n",
       "    <tr>\n",
       "      <th>3</th>\n",
       "      <td>276729</td>\n",
       "      <td>052165615X</td>\n",
       "      <td>3</td>\n",
       "    </tr>\n",
       "    <tr>\n",
       "      <th>4</th>\n",
       "      <td>276729</td>\n",
       "      <td>0521795028</td>\n",
       "      <td>6</td>\n",
       "    </tr>\n",
       "  </tbody>\n",
       "</table>\n",
       "</div>"
      ],
      "text/plain": [
       "   User-ID        ISBN  Book-Rating\n",
       "0   276725  034545104X            0\n",
       "1   276726  0155061224            5\n",
       "2   276727  0446520802            0\n",
       "3   276729  052165615X            3\n",
       "4   276729  0521795028            6"
      ]
     },
     "execution_count": 11,
     "metadata": {},
     "output_type": "execute_result"
    }
   ],
   "source": [
    "# Let's see the details of Ratings dataset\n",
    "ratings.head()"
   ]
  },
  {
   "cell_type": "markdown",
   "id": "3bd332aa",
   "metadata": {},
   "source": [
    "## EDA \n",
    "\n",
    "We shall be doing EDA on each dataset one by one <br>\n",
    "\n",
    "### Rating Dataframe"
   ]
  },
  {
   "cell_type": "code",
   "execution_count": 12,
   "id": "a2c86384",
   "metadata": {},
   "outputs": [
    {
     "name": "stdout",
     "output_type": "stream",
     "text": [
      "<class 'pandas.core.frame.DataFrame'>\n",
      "RangeIndex: 1149780 entries, 0 to 1149779\n",
      "Data columns (total 3 columns):\n",
      " #   Column       Non-Null Count    Dtype \n",
      "---  ------       --------------    ----- \n",
      " 0   User-ID      1149780 non-null  int64 \n",
      " 1   ISBN         1149780 non-null  object\n",
      " 2   Book-Rating  1149780 non-null  int64 \n",
      "dtypes: int64(2), object(1)\n",
      "memory usage: 26.3+ MB\n"
     ]
    }
   ],
   "source": [
    "# Info of the ratings column\n",
    "ratings.info()"
   ]
  },
  {
   "cell_type": "code",
   "execution_count": 13,
   "id": "74177c3f",
   "metadata": {},
   "outputs": [
    {
     "data": {
      "text/plain": [
       "User-ID        0\n",
       "ISBN           0\n",
       "Book-Rating    0\n",
       "dtype: int64"
      ]
     },
     "execution_count": 13,
     "metadata": {},
     "output_type": "execute_result"
    }
   ],
   "source": [
    "# Checking the null values in the dataset \n",
    "ratings.isnull().sum()"
   ]
  },
  {
   "cell_type": "code",
   "execution_count": 14,
   "id": "b97ed667",
   "metadata": {},
   "outputs": [
    {
     "data": {
      "text/html": [
       "<div>\n",
       "<style scoped>\n",
       "    .dataframe tbody tr th:only-of-type {\n",
       "        vertical-align: middle;\n",
       "    }\n",
       "\n",
       "    .dataframe tbody tr th {\n",
       "        vertical-align: top;\n",
       "    }\n",
       "\n",
       "    .dataframe thead th {\n",
       "        text-align: right;\n",
       "    }\n",
       "</style>\n",
       "<table border=\"1\" class=\"dataframe\">\n",
       "  <thead>\n",
       "    <tr style=\"text-align: right;\">\n",
       "      <th></th>\n",
       "      <th>User-ID</th>\n",
       "      <th>Book-Rating</th>\n",
       "    </tr>\n",
       "  </thead>\n",
       "  <tbody>\n",
       "    <tr>\n",
       "      <th>count</th>\n",
       "      <td>1.149780e+06</td>\n",
       "      <td>1.149780e+06</td>\n",
       "    </tr>\n",
       "    <tr>\n",
       "      <th>mean</th>\n",
       "      <td>1.403864e+05</td>\n",
       "      <td>2.866950e+00</td>\n",
       "    </tr>\n",
       "    <tr>\n",
       "      <th>std</th>\n",
       "      <td>8.056228e+04</td>\n",
       "      <td>3.854184e+00</td>\n",
       "    </tr>\n",
       "    <tr>\n",
       "      <th>min</th>\n",
       "      <td>2.000000e+00</td>\n",
       "      <td>0.000000e+00</td>\n",
       "    </tr>\n",
       "    <tr>\n",
       "      <th>25%</th>\n",
       "      <td>7.034500e+04</td>\n",
       "      <td>0.000000e+00</td>\n",
       "    </tr>\n",
       "    <tr>\n",
       "      <th>50%</th>\n",
       "      <td>1.410100e+05</td>\n",
       "      <td>0.000000e+00</td>\n",
       "    </tr>\n",
       "    <tr>\n",
       "      <th>75%</th>\n",
       "      <td>2.110280e+05</td>\n",
       "      <td>7.000000e+00</td>\n",
       "    </tr>\n",
       "    <tr>\n",
       "      <th>max</th>\n",
       "      <td>2.788540e+05</td>\n",
       "      <td>1.000000e+01</td>\n",
       "    </tr>\n",
       "  </tbody>\n",
       "</table>\n",
       "</div>"
      ],
      "text/plain": [
       "            User-ID   Book-Rating\n",
       "count  1.149780e+06  1.149780e+06\n",
       "mean   1.403864e+05  2.866950e+00\n",
       "std    8.056228e+04  3.854184e+00\n",
       "min    2.000000e+00  0.000000e+00\n",
       "25%    7.034500e+04  0.000000e+00\n",
       "50%    1.410100e+05  0.000000e+00\n",
       "75%    2.110280e+05  7.000000e+00\n",
       "max    2.788540e+05  1.000000e+01"
      ]
     },
     "execution_count": 14,
     "metadata": {},
     "output_type": "execute_result"
    }
   ],
   "source": [
    "# Checking the tendency of ratings dataset with describe\n",
    "ratings.describe()"
   ]
  },
  {
   "cell_type": "code",
   "execution_count": 15,
   "id": "b10f9de9",
   "metadata": {},
   "outputs": [
    {
     "data": {
      "text/plain": [
       "Text(0.5, 1.0, 'Book Ratings count')"
      ]
     },
     "execution_count": 15,
     "metadata": {},
     "output_type": "execute_result"
    },
    {
     "data": {
      "image/png": "[encoded data removed]",
      "text/plain": [
       "<Figure size 420x280 with 1 Axes>"
      ]
     },
     "metadata": {},
     "output_type": "display_data"
    }
   ],
   "source": [
    "# Checking the distribution of the rating and see the highest number of ratings\n",
    "plt.style.use('fivethirtyeight')\n",
    "plt.figure(dpi=70)\n",
    "sns.countplot(ratings['Book-Rating'])\n",
    "plt.title('Book Ratings count')"
   ]
  },
  {
   "cell_type": "markdown",
   "id": "feb5f83c",
   "metadata": {},
   "source": [
    "- Here we can see that the rating 0 either shows the users did not read or rated the books.\n",
    "- It shows that the most of the people either didn't rate or read the books.\n",
    "- However 8 has been rated second highest after 0.\n",
    "- So it would be rather better if we drop this 0 rating and do the further analysis on the columns"
   ]
  },
  {
   "cell_type": "code",
   "execution_count": 16,
   "id": "b80016b1",
   "metadata": {},
   "outputs": [],
   "source": [
    "# Dropping the rating less than 0\n",
    "ratings_df = ratings[ratings['Book-Rating'] > 0]"
   ]
  },
  {
   "cell_type": "code",
   "execution_count": 17,
   "id": "91635ac4",
   "metadata": {},
   "outputs": [
    {
     "data": {
      "text/plain": [
       "Text(0.5, 1.0, 'Book Ratings count')"
      ]
     },
     "execution_count": 17,
     "metadata": {},
     "output_type": "execute_result"
    },
    {
     "data": {
      "image/png": "[encoded data removed]",
      "text/plain": [
       "<Figure size 420x280 with 1 Axes>"
      ]
     },
     "metadata": {},
     "output_type": "display_data"
    }
   ],
   "source": [
    "# Plotting the top ratings after removing the 0 rating \n",
    "plt.style.use('fivethirtyeight')\n",
    "plt.figure(dpi=70)\n",
    "sns.countplot(ratings_df['Book-Rating'])\n",
    "plt.title('Book Ratings count')"
   ]
  },
  {
   "cell_type": "markdown",
   "id": "370b732b",
   "metadata": {},
   "source": [
    "- Now we can see that in the ratings plot most of the books have been rated 8 out of 10 \n",
    "- The number for 1 rating is lowest among all \n",
    "- Second highest ratings have received as 10 and 7 stars\n",
    "- Let's see these hishest ratings "
   ]
  },
  {
   "cell_type": "code",
   "execution_count": 18,
   "id": "4c80a75a",
   "metadata": {},
   "outputs": [
    {
     "data": {
      "text/plain": [
       "433671"
      ]
     },
     "execution_count": 18,
     "metadata": {},
     "output_type": "execute_result"
    }
   ],
   "source": [
    "# Value counts of the ratings\n",
    "ratings_df.value_counts().count()"
   ]
  },
  {
   "cell_type": "code",
   "execution_count": 19,
   "id": "fc30aa1e",
   "metadata": {},
   "outputs": [
    {
     "data": {
      "text/html": [
       "<div>\n",
       "<style scoped>\n",
       "    .dataframe tbody tr th:only-of-type {\n",
       "        vertical-align: middle;\n",
       "    }\n",
       "\n",
       "    .dataframe tbody tr th {\n",
       "        vertical-align: top;\n",
       "    }\n",
       "\n",
       "    .dataframe thead th {\n",
       "        text-align: right;\n",
       "    }\n",
       "</style>\n",
       "<table border=\"1\" class=\"dataframe\">\n",
       "  <thead>\n",
       "    <tr style=\"text-align: right;\">\n",
       "      <th></th>\n",
       "      <th>Book-Rating</th>\n",
       "    </tr>\n",
       "    <tr>\n",
       "      <th>ISBN</th>\n",
       "      <th></th>\n",
       "    </tr>\n",
       "  </thead>\n",
       "  <tbody>\n",
       "    <tr>\n",
       "      <th>0316666343</th>\n",
       "      <td>707</td>\n",
       "    </tr>\n",
       "    <tr>\n",
       "      <th>0971880107</th>\n",
       "      <td>581</td>\n",
       "    </tr>\n",
       "    <tr>\n",
       "      <th>0385504209</th>\n",
       "      <td>487</td>\n",
       "    </tr>\n",
       "    <tr>\n",
       "      <th>0312195516</th>\n",
       "      <td>383</td>\n",
       "    </tr>\n",
       "    <tr>\n",
       "      <th>0679781587</th>\n",
       "      <td>333</td>\n",
       "    </tr>\n",
       "    <tr>\n",
       "      <th>0060928336</th>\n",
       "      <td>320</td>\n",
       "    </tr>\n",
       "    <tr>\n",
       "      <th>059035342X</th>\n",
       "      <td>313</td>\n",
       "    </tr>\n",
       "    <tr>\n",
       "      <th>0142001740</th>\n",
       "      <td>307</td>\n",
       "    </tr>\n",
       "    <tr>\n",
       "      <th>0446672211</th>\n",
       "      <td>295</td>\n",
       "    </tr>\n",
       "    <tr>\n",
       "      <th>044023722X</th>\n",
       "      <td>281</td>\n",
       "    </tr>\n",
       "  </tbody>\n",
       "</table>\n",
       "</div>"
      ],
      "text/plain": [
       "            Book-Rating\n",
       "ISBN                   \n",
       "0316666343          707\n",
       "0971880107          581\n",
       "0385504209          487\n",
       "0312195516          383\n",
       "0679781587          333\n",
       "0060928336          320\n",
       "059035342X          313\n",
       "0142001740          307\n",
       "0446672211          295\n",
       "044023722X          281"
      ]
     },
     "execution_count": 19,
     "metadata": {},
     "output_type": "execute_result"
    }
   ],
   "source": [
    "# Finding the highest rated ISBN number of the books and leter we shall plot it \n",
    "df = pd.DataFrame(ratings_df.groupby('ISBN')['Book-Rating'].count().sort_values(ascending=False).head(10))\n",
    "df"
   ]
  },
  {
   "cell_type": "code",
   "execution_count": 20,
   "id": "58a1533b",
   "metadata": {},
   "outputs": [
    {
     "data": {
      "text/plain": [
       "Text(0.5, 1.0, 'Top 10 ratings of the books')"
      ]
     },
     "execution_count": 20,
     "metadata": {},
     "output_type": "execute_result"
    },
    {
     "data": {
      "image/png": "[encoded data removed]",
      "text/plain": [
       "<Figure size 420x280 with 1 Axes>"
      ]
     },
     "metadata": {},
     "output_type": "display_data"
    }
   ],
   "source": [
    "# Plot showing the top 10 most rated books \n",
    "plt.figure(dpi=70)\n",
    "sns.barplot(y=df.index, x=df['Book-Rating'])\n",
    "# plt.xticks(rotation=90)\n",
    "plt.title('Top 10 ratings of the books')"
   ]
  },
  {
   "cell_type": "markdown",
   "id": "1e7cbf88",
   "metadata": {},
   "source": [
    "- Let's merge thede ISBN with the other dataset containing names and see which all these books are "
   ]
  },
  {
   "cell_type": "code",
   "execution_count": 21,
   "id": "5989169a",
   "metadata": {},
   "outputs": [],
   "source": [
    "# Fetching the books name with ISBN number of these top 10 books\n",
    "df1 = pd.DataFrame(['0316666343', '0971880107', '0385504209', '0312195516', '0679781587', '0060928336',\n",
    "                    '059035342X', '0142001740', '0446672211','044023722X'], index=np.arange(10), columns=['ISBN'])"
   ]
  },
  {
   "cell_type": "code",
   "execution_count": 22,
   "id": "e1879fbe",
   "metadata": {},
   "outputs": [
    {
     "data": {
      "text/html": [
       "<div>\n",
       "<style scoped>\n",
       "    .dataframe tbody tr th:only-of-type {\n",
       "        vertical-align: middle;\n",
       "    }\n",
       "\n",
       "    .dataframe tbody tr th {\n",
       "        vertical-align: top;\n",
       "    }\n",
       "\n",
       "    .dataframe thead th {\n",
       "        text-align: right;\n",
       "    }\n",
       "</style>\n",
       "<table border=\"1\" class=\"dataframe\">\n",
       "  <thead>\n",
       "    <tr style=\"text-align: right;\">\n",
       "      <th></th>\n",
       "      <th>ISBN</th>\n",
       "      <th>Book-Rating</th>\n",
       "      <th>Book-Title</th>\n",
       "    </tr>\n",
       "  </thead>\n",
       "  <tbody>\n",
       "    <tr>\n",
       "      <th>0</th>\n",
       "      <td>0316666343</td>\n",
       "      <td>707</td>\n",
       "      <td>The Lovely Bones: A Novel</td>\n",
       "    </tr>\n",
       "    <tr>\n",
       "      <th>1</th>\n",
       "      <td>0971880107</td>\n",
       "      <td>581</td>\n",
       "      <td>Wild Animus</td>\n",
       "    </tr>\n",
       "    <tr>\n",
       "      <th>2</th>\n",
       "      <td>0385504209</td>\n",
       "      <td>487</td>\n",
       "      <td>The Da Vinci Code</td>\n",
       "    </tr>\n",
       "    <tr>\n",
       "      <th>3</th>\n",
       "      <td>0312195516</td>\n",
       "      <td>383</td>\n",
       "      <td>The Red Tent (Bestselling Backlist)</td>\n",
       "    </tr>\n",
       "    <tr>\n",
       "      <th>4</th>\n",
       "      <td>0060928336</td>\n",
       "      <td>320</td>\n",
       "      <td>Divine Secrets of the Ya-Ya Sisterhood: A Novel</td>\n",
       "    </tr>\n",
       "    <tr>\n",
       "      <th>5</th>\n",
       "      <td>059035342X</td>\n",
       "      <td>313</td>\n",
       "      <td>Harry Potter and the Sorcerer's Stone (Harry P...</td>\n",
       "    </tr>\n",
       "    <tr>\n",
       "      <th>6</th>\n",
       "      <td>0142001740</td>\n",
       "      <td>307</td>\n",
       "      <td>The Secret Life of Bees</td>\n",
       "    </tr>\n",
       "    <tr>\n",
       "      <th>7</th>\n",
       "      <td>0446672211</td>\n",
       "      <td>295</td>\n",
       "      <td>Where the Heart Is (Oprah's Book Club (Paperba...</td>\n",
       "    </tr>\n",
       "    <tr>\n",
       "      <th>8</th>\n",
       "      <td>044023722X</td>\n",
       "      <td>281</td>\n",
       "      <td>A Painted House</td>\n",
       "    </tr>\n",
       "  </tbody>\n",
       "</table>\n",
       "</div>"
      ],
      "text/plain": [
       "         ISBN  Book-Rating                                         Book-Title\n",
       "0  0316666343          707                          The Lovely Bones: A Novel\n",
       "1  0971880107          581                                        Wild Animus\n",
       "2  0385504209          487                                  The Da Vinci Code\n",
       "3  0312195516          383                The Red Tent (Bestselling Backlist)\n",
       "4  0060928336          320    Divine Secrets of the Ya-Ya Sisterhood: A Novel\n",
       "5  059035342X          313  Harry Potter and the Sorcerer's Stone (Harry P...\n",
       "6  0142001740          307                            The Secret Life of Bees\n",
       "7  0446672211          295  Where the Heart Is (Oprah's Book Club (Paperba...\n",
       "8  044023722X          281                                    A Painted House"
      ]
     },
     "execution_count": 22,
     "metadata": {},
     "output_type": "execute_result"
    }
   ],
   "source": [
    "# ISBN number with books name \n",
    "df1 = pd.merge(df, books, on='ISBN')\n",
    "df1[['ISBN', 'Book-Rating', 'Book-Title']]"
   ]
  },
  {
   "cell_type": "code",
   "execution_count": 23,
   "id": "2ea8e804",
   "metadata": {},
   "outputs": [
    {
     "data": {
      "text/plain": [
       "Text(0.5, 1.0, 'Top 10 books based on Rating')"
      ]
     },
     "execution_count": 23,
     "metadata": {},
     "output_type": "execute_result"
    },
    {
     "data": {
      "image/png": "[encoded data removed]",
      "text/plain": [
       "<Figure size 432x288 with 1 Axes>"
      ]
     },
     "metadata": {},
     "output_type": "display_data"
    }
   ],
   "source": [
    "# Following plot shows top 10 books based on the rating\n",
    "sns.barplot(y=df1['Book-Title'], x=df1['Book-Rating'])\n",
    "# plt.xticks(rotation=90)\n",
    "plt.title('Top 10 books based on Rating')"
   ]
  },
  {
   "cell_type": "code",
   "execution_count": null,
   "id": "1c3de9a6",
   "metadata": {},
   "outputs": [],
   "source": []
  },
  {
   "cell_type": "markdown",
   "id": "833d4c7c",
   "metadata": {},
   "source": [
    "## Users Dataset "
   ]
  },
  {
   "cell_type": "code",
   "execution_count": 24,
   "id": "0be45a33",
   "metadata": {},
   "outputs": [
    {
     "data": {
      "text/html": [
       "<div>\n",
       "<style scoped>\n",
       "    .dataframe tbody tr th:only-of-type {\n",
       "        vertical-align: middle;\n",
       "    }\n",
       "\n",
       "    .dataframe tbody tr th {\n",
       "        vertical-align: top;\n",
       "    }\n",
       "\n",
       "    .dataframe thead th {\n",
       "        text-align: right;\n",
       "    }\n",
       "</style>\n",
       "<table border=\"1\" class=\"dataframe\">\n",
       "  <thead>\n",
       "    <tr style=\"text-align: right;\">\n",
       "      <th></th>\n",
       "      <th>User-ID</th>\n",
       "      <th>Location</th>\n",
       "      <th>Age</th>\n",
       "    </tr>\n",
       "  </thead>\n",
       "  <tbody>\n",
       "    <tr>\n",
       "      <th>0</th>\n",
       "      <td>1</td>\n",
       "      <td>nyc, new york, usa</td>\n",
       "      <td>NaN</td>\n",
       "    </tr>\n",
       "    <tr>\n",
       "      <th>1</th>\n",
       "      <td>2</td>\n",
       "      <td>stockton, california, usa</td>\n",
       "      <td>18.0</td>\n",
       "    </tr>\n",
       "    <tr>\n",
       "      <th>2</th>\n",
       "      <td>3</td>\n",
       "      <td>moscow, yukon territory, russia</td>\n",
       "      <td>NaN</td>\n",
       "    </tr>\n",
       "    <tr>\n",
       "      <th>3</th>\n",
       "      <td>4</td>\n",
       "      <td>porto, v.n.gaia, portugal</td>\n",
       "      <td>17.0</td>\n",
       "    </tr>\n",
       "    <tr>\n",
       "      <th>4</th>\n",
       "      <td>5</td>\n",
       "      <td>farnborough, hants, united kingdom</td>\n",
       "      <td>NaN</td>\n",
       "    </tr>\n",
       "  </tbody>\n",
       "</table>\n",
       "</div>"
      ],
      "text/plain": [
       "   User-ID                            Location   Age\n",
       "0        1                  nyc, new york, usa   NaN\n",
       "1        2           stockton, california, usa  18.0\n",
       "2        3     moscow, yukon territory, russia   NaN\n",
       "3        4           porto, v.n.gaia, portugal  17.0\n",
       "4        5  farnborough, hants, united kingdom   NaN"
      ]
     },
     "execution_count": 24,
     "metadata": {},
     "output_type": "execute_result"
    }
   ],
   "source": [
    "# Checking Users data\n",
    "users.head()"
   ]
  },
  {
   "cell_type": "code",
   "execution_count": 25,
   "id": "f8b67391",
   "metadata": {},
   "outputs": [
    {
     "name": "stdout",
     "output_type": "stream",
     "text": [
      "<class 'pandas.core.frame.DataFrame'>\n",
      "RangeIndex: 278858 entries, 0 to 278857\n",
      "Data columns (total 3 columns):\n",
      " #   Column    Non-Null Count   Dtype  \n",
      "---  ------    --------------   -----  \n",
      " 0   User-ID   278858 non-null  int64  \n",
      " 1   Location  278858 non-null  object \n",
      " 2   Age       168096 non-null  float64\n",
      "dtypes: float64(1), int64(1), object(1)\n",
      "memory usage: 6.4+ MB\n"
     ]
    }
   ],
   "source": [
    "# Users data info \n",
    "users.info()"
   ]
  },
  {
   "cell_type": "code",
   "execution_count": 26,
   "id": "f8855afd",
   "metadata": {},
   "outputs": [
    {
     "data": {
      "text/html": [
       "<div>\n",
       "<style scoped>\n",
       "    .dataframe tbody tr th:only-of-type {\n",
       "        vertical-align: middle;\n",
       "    }\n",
       "\n",
       "    .dataframe tbody tr th {\n",
       "        vertical-align: top;\n",
       "    }\n",
       "\n",
       "    .dataframe thead th {\n",
       "        text-align: right;\n",
       "    }\n",
       "</style>\n",
       "<table border=\"1\" class=\"dataframe\">\n",
       "  <thead>\n",
       "    <tr style=\"text-align: right;\">\n",
       "      <th></th>\n",
       "      <th>User-ID</th>\n",
       "      <th>Age</th>\n",
       "    </tr>\n",
       "  </thead>\n",
       "  <tbody>\n",
       "    <tr>\n",
       "      <th>count</th>\n",
       "      <td>278858.00000</td>\n",
       "      <td>168096.000000</td>\n",
       "    </tr>\n",
       "    <tr>\n",
       "      <th>mean</th>\n",
       "      <td>139429.50000</td>\n",
       "      <td>34.751434</td>\n",
       "    </tr>\n",
       "    <tr>\n",
       "      <th>std</th>\n",
       "      <td>80499.51502</td>\n",
       "      <td>14.428097</td>\n",
       "    </tr>\n",
       "    <tr>\n",
       "      <th>min</th>\n",
       "      <td>1.00000</td>\n",
       "      <td>0.000000</td>\n",
       "    </tr>\n",
       "    <tr>\n",
       "      <th>25%</th>\n",
       "      <td>69715.25000</td>\n",
       "      <td>24.000000</td>\n",
       "    </tr>\n",
       "    <tr>\n",
       "      <th>50%</th>\n",
       "      <td>139429.50000</td>\n",
       "      <td>32.000000</td>\n",
       "    </tr>\n",
       "    <tr>\n",
       "      <th>75%</th>\n",
       "      <td>209143.75000</td>\n",
       "      <td>44.000000</td>\n",
       "    </tr>\n",
       "    <tr>\n",
       "      <th>max</th>\n",
       "      <td>278858.00000</td>\n",
       "      <td>244.000000</td>\n",
       "    </tr>\n",
       "  </tbody>\n",
       "</table>\n",
       "</div>"
      ],
      "text/plain": [
       "            User-ID            Age\n",
       "count  278858.00000  168096.000000\n",
       "mean   139429.50000      34.751434\n",
       "std     80499.51502      14.428097\n",
       "min         1.00000       0.000000\n",
       "25%     69715.25000      24.000000\n",
       "50%    139429.50000      32.000000\n",
       "75%    209143.75000      44.000000\n",
       "max    278858.00000     244.000000"
      ]
     },
     "execution_count": 26,
     "metadata": {},
     "output_type": "execute_result"
    }
   ],
   "source": [
    "# Checking the tendancy of the users dataset\n",
    "users.describe()"
   ]
  },
  {
   "cell_type": "code",
   "execution_count": 27,
   "id": "97f3b126",
   "metadata": {},
   "outputs": [
    {
     "data": {
      "text/html": [
       "<div>\n",
       "<style scoped>\n",
       "    .dataframe tbody tr th:only-of-type {\n",
       "        vertical-align: middle;\n",
       "    }\n",
       "\n",
       "    .dataframe tbody tr th {\n",
       "        vertical-align: top;\n",
       "    }\n",
       "\n",
       "    .dataframe thead th {\n",
       "        text-align: right;\n",
       "    }\n",
       "</style>\n",
       "<table border=\"1\" class=\"dataframe\">\n",
       "  <thead>\n",
       "    <tr style=\"text-align: right;\">\n",
       "      <th></th>\n",
       "      <th>Null values</th>\n",
       "      <th>% Null values</th>\n",
       "    </tr>\n",
       "  </thead>\n",
       "  <tbody>\n",
       "    <tr>\n",
       "      <th>User-ID</th>\n",
       "      <td>0</td>\n",
       "      <td>0.00</td>\n",
       "    </tr>\n",
       "    <tr>\n",
       "      <th>Location</th>\n",
       "      <td>0</td>\n",
       "      <td>0.00</td>\n",
       "    </tr>\n",
       "    <tr>\n",
       "      <th>Age</th>\n",
       "      <td>110762</td>\n",
       "      <td>39.72</td>\n",
       "    </tr>\n",
       "  </tbody>\n",
       "</table>\n",
       "</div>"
      ],
      "text/plain": [
       "          Null values  % Null values\n",
       "User-ID             0           0.00\n",
       "Location            0           0.00\n",
       "Age            110762          39.72"
      ]
     },
     "execution_count": 27,
     "metadata": {},
     "output_type": "execute_result"
    }
   ],
   "source": [
    "# Checking the null values by percentage of the users dataset\n",
    "df = pd.DataFrame(users.isna().sum(), columns=['Null values'])\n",
    "df['% Null values'] = np.round(100 * (df['Null values']) / len(users['Age']), 2)\n",
    "df"
   ]
  },
  {
   "cell_type": "markdown",
   "id": "7f9b8331",
   "metadata": {},
   "source": [
    "- We have 39% missing values in Age column "
   ]
  },
  {
   "cell_type": "code",
   "execution_count": 28,
   "id": "22a5e9ff",
   "metadata": {},
   "outputs": [
    {
     "data": {
      "text/plain": [
       "<AxesSubplot:>"
      ]
     },
     "execution_count": 28,
     "metadata": {},
     "output_type": "execute_result"
    },
    {
     "data": {
      "image/png": "[encoded data removed]",
      "text/plain": [
       "<Figure size 432x288 with 1 Axes>"
      ]
     },
     "metadata": {},
     "output_type": "display_data"
    }
   ],
   "source": [
    "# Boxplot to find outlier \n",
    "sns.boxplot(data=users['Age'])"
   ]
  },
  {
   "cell_type": "markdown",
   "id": "45938d0e",
   "metadata": {},
   "source": [
    "From the above plot we can see that\n",
    "- The average age is lying around 50 whereas the highest age is 250 years\n",
    "- Certainly we have so many outliers.\n",
    "- We shall drop the rows having age more than 100 \n",
    "- Let's see the skewness through histplot"
   ]
  },
  {
   "cell_type": "code",
   "execution_count": 29,
   "id": "05281fe8",
   "metadata": {},
   "outputs": [
    {
     "data": {
      "text/plain": [
       "<AxesSubplot:xlabel='Age', ylabel='Count'>"
      ]
     },
     "execution_count": 29,
     "metadata": {},
     "output_type": "execute_result"
    },
    {
     "data": {
      "image/png": "[encoded data removed]",
      "text/plain": [
       "<Figure size 432x288 with 1 Axes>"
      ]
     },
     "metadata": {},
     "output_type": "display_data"
    }
   ],
   "source": [
    "# Histplot shoewing the distribution of the Age column\n",
    "sns.histplot(users['Age'], kde=True)"
   ]
  },
  {
   "cell_type": "markdown",
   "id": "d0fc64bc",
   "metadata": {},
   "source": [
    "- Here we can see that the data is highly skewed to the right from it's tail\n",
    "- We shall drop the outliers and see the distribution again"
   ]
  },
  {
   "cell_type": "code",
   "execution_count": 30,
   "id": "b11bb627",
   "metadata": {},
   "outputs": [],
   "source": [
    "# Removing the age more than 100 years \n",
    "users_df1 = users[users['Age']<= 100]"
   ]
  },
  {
   "cell_type": "code",
   "execution_count": 31,
   "id": "f3ce36c0",
   "metadata": {},
   "outputs": [
    {
     "data": {
      "text/html": [
       "<div>\n",
       "<style scoped>\n",
       "    .dataframe tbody tr th:only-of-type {\n",
       "        vertical-align: middle;\n",
       "    }\n",
       "\n",
       "    .dataframe tbody tr th {\n",
       "        vertical-align: top;\n",
       "    }\n",
       "\n",
       "    .dataframe thead th {\n",
       "        text-align: right;\n",
       "    }\n",
       "</style>\n",
       "<table border=\"1\" class=\"dataframe\">\n",
       "  <thead>\n",
       "    <tr style=\"text-align: right;\">\n",
       "      <th></th>\n",
       "      <th>User-ID</th>\n",
       "      <th>Location</th>\n",
       "      <th>Age</th>\n",
       "    </tr>\n",
       "  </thead>\n",
       "  <tbody>\n",
       "  </tbody>\n",
       "</table>\n",
       "</div>"
      ],
      "text/plain": [
       "Empty DataFrame\n",
       "Columns: [User-ID, Location, Age]\n",
       "Index: []"
      ]
     },
     "execution_count": 31,
     "metadata": {},
     "output_type": "execute_result"
    }
   ],
   "source": [
    "# Verifying the age columns as we don't have any value more than 100 now \n",
    "users_df1[users_df1['Age'] >100]"
   ]
  },
  {
   "cell_type": "code",
   "execution_count": 32,
   "id": "a12a7aa6",
   "metadata": {},
   "outputs": [],
   "source": [
    "# Removing the age less than 5 years \n",
    "users_df1 = users_df1[users_df1['Age'] >= 5]"
   ]
  },
  {
   "cell_type": "markdown",
   "id": "a238e0dd",
   "metadata": {},
   "source": [
    "#### Imputing the null values with the median of the age "
   ]
  },
  {
   "cell_type": "code",
   "execution_count": 33,
   "id": "0bd544eb",
   "metadata": {},
   "outputs": [],
   "source": [
    "#Imputing the NaN values with the median of the user column \n",
    "users_df1['Age'] = users['Age'].fillna(users['Age'].median())"
   ]
  },
  {
   "cell_type": "code",
   "execution_count": 34,
   "id": "a9451b08",
   "metadata": {},
   "outputs": [
    {
     "name": "stdout",
     "output_type": "stream",
     "text": [
      "<class 'pandas.core.frame.DataFrame'>\n",
      "Index: 3 entries, User-ID to Age\n",
      "Data columns (total 2 columns):\n",
      " #   Column         Non-Null Count  Dtype  \n",
      "---  ------         --------------  -----  \n",
      " 0   Null values    3 non-null      int64  \n",
      " 1   % Null values  3 non-null      float64\n",
      "dtypes: float64(1), int64(1)\n",
      "memory usage: 72.0+ bytes\n"
     ]
    }
   ],
   "source": [
    "# CHecking the of the column once again \n",
    "df = pd.DataFrame(users_df1.isna().sum(), columns=['Null values'])\n",
    "df['% Null values'] = np.round(100 * (df['Null values']) / len(users_df1['Age']), 2)\n",
    "df.info()"
   ]
  },
  {
   "cell_type": "code",
   "execution_count": 35,
   "id": "84713de7",
   "metadata": {},
   "outputs": [
    {
     "data": {
      "text/plain": [
       "Text(0.5, 1.0, 'Highest number of readers with respect to age')"
      ]
     },
     "execution_count": 35,
     "metadata": {},
     "output_type": "execute_result"
    },
    {
     "data": {
      "image/png": "[encoded data removed]",
      "text/plain": [
       "<Figure size 432x288 with 1 Axes>"
      ]
     },
     "metadata": {},
     "output_type": "display_data"
    }
   ],
   "source": [
    "# Highest number of readers age group\n",
    "sns.histplot(data=users_df1['Age'] , bins=20)\n",
    "plt.title('Highest number of readers with respect to age')"
   ]
  },
  {
   "cell_type": "markdown",
   "id": "eadd064c",
   "metadata": {},
   "source": [
    "- Highest number of the readers lies in between the age group of 20 - 40\n",
    "- People having age of 20-30 are the highest readers exactly."
   ]
  },
  {
   "cell_type": "code",
   "execution_count": 36,
   "id": "fe102c50",
   "metadata": {},
   "outputs": [
    {
     "data": {
      "text/plain": [
       "array(['stockton, california, usa', 'porto, v.n.gaia, portugal',\n",
       "       'santa monica, california, usa', ...,\n",
       "       'hanoi, australian capital territory, vietnam',\n",
       "       'stranraer, n/a, united kingdom',\n",
       "       'tacoma, washington, united kingdom'], dtype=object)"
      ]
     },
     "execution_count": 36,
     "metadata": {},
     "output_type": "execute_result"
    }
   ],
   "source": [
    "# Unique locations in various columns \n",
    "users_df1.Location.unique()"
   ]
  },
  {
   "cell_type": "code",
   "execution_count": 37,
   "id": "12ee0f14",
   "metadata": {},
   "outputs": [
    {
     "data": {
      "text/plain": [
       "40987"
      ]
     },
     "execution_count": 37,
     "metadata": {},
     "output_type": "execute_result"
    }
   ],
   "source": [
    "# Total number of unique rows in the location data\n",
    "users_df1.Location.nunique()"
   ]
  },
  {
   "cell_type": "markdown",
   "id": "316bd63b",
   "metadata": {},
   "source": [
    "- Since we have 40,987 unique names of the countries along the city names\n",
    "- It is not feasible for our dataset to keep these number of unique items \n",
    "- So we shall extract the country data only from the rows\n",
    "- This country data to a new column and then we shall do further analysis"
   ]
  },
  {
   "cell_type": "code",
   "execution_count": 38,
   "id": "676468f8",
   "metadata": {},
   "outputs": [],
   "source": [
    "# Function to extract country name from the location column \n",
    "\n",
    "def extract(name):\n",
    "    l = len(name)\n",
    "    s = \"\"\n",
    "    for i in range(l-1,0,-1):\n",
    "        if(name[i] !=',' or name[i]=='&'):\n",
    "            s+=name[i]\n",
    "        else:\n",
    "            break\n",
    "    s = s[::-1]\n",
    "    return s"
   ]
  },
  {
   "cell_type": "code",
   "execution_count": 39,
   "id": "0f5abd92",
   "metadata": {},
   "outputs": [
    {
     "data": {
      "text/plain": [
       "' India'"
      ]
     },
     "execution_count": 39,
     "metadata": {},
     "output_type": "execute_result"
    }
   ],
   "source": [
    "#Testing the function \n",
    "extract('Varanasi, Uttar Pradesh, India')"
   ]
  },
  {
   "cell_type": "code",
   "execution_count": 40,
   "id": "efa504d1",
   "metadata": {},
   "outputs": [],
   "source": [
    "# Creating a new column and applying the function on it to get country name\n",
    "users_df1['Country'] = users_df1['Location'].apply(extract)\n",
    "users_df11 = users_df1.drop('Location', axis=1)"
   ]
  },
  {
   "cell_type": "code",
   "execution_count": 41,
   "id": "661435d3",
   "metadata": {},
   "outputs": [
    {
     "data": {
      "text/html": [
       "<div>\n",
       "<style scoped>\n",
       "    .dataframe tbody tr th:only-of-type {\n",
       "        vertical-align: middle;\n",
       "    }\n",
       "\n",
       "    .dataframe tbody tr th {\n",
       "        vertical-align: top;\n",
       "    }\n",
       "\n",
       "    .dataframe thead th {\n",
       "        text-align: right;\n",
       "    }\n",
       "</style>\n",
       "<table border=\"1\" class=\"dataframe\">\n",
       "  <thead>\n",
       "    <tr style=\"text-align: right;\">\n",
       "      <th></th>\n",
       "      <th>User-ID</th>\n",
       "      <th>Location</th>\n",
       "      <th>Age</th>\n",
       "      <th>Country</th>\n",
       "    </tr>\n",
       "  </thead>\n",
       "  <tbody>\n",
       "    <tr>\n",
       "      <th>1</th>\n",
       "      <td>2</td>\n",
       "      <td>stockton, california, usa</td>\n",
       "      <td>18.0</td>\n",
       "      <td>usa</td>\n",
       "    </tr>\n",
       "    <tr>\n",
       "      <th>3</th>\n",
       "      <td>4</td>\n",
       "      <td>porto, v.n.gaia, portugal</td>\n",
       "      <td>17.0</td>\n",
       "      <td>portugal</td>\n",
       "    </tr>\n",
       "    <tr>\n",
       "      <th>5</th>\n",
       "      <td>6</td>\n",
       "      <td>santa monica, california, usa</td>\n",
       "      <td>61.0</td>\n",
       "      <td>usa</td>\n",
       "    </tr>\n",
       "    <tr>\n",
       "      <th>9</th>\n",
       "      <td>10</td>\n",
       "      <td>albacete, wisconsin, spain</td>\n",
       "      <td>26.0</td>\n",
       "      <td>spain</td>\n",
       "    </tr>\n",
       "    <tr>\n",
       "      <th>10</th>\n",
       "      <td>11</td>\n",
       "      <td>melbourne, victoria, australia</td>\n",
       "      <td>14.0</td>\n",
       "      <td>australia</td>\n",
       "    </tr>\n",
       "  </tbody>\n",
       "</table>\n",
       "</div>"
      ],
      "text/plain": [
       "    User-ID                        Location   Age     Country\n",
       "1         2       stockton, california, usa  18.0         usa\n",
       "3         4       porto, v.n.gaia, portugal  17.0    portugal\n",
       "5         6   santa monica, california, usa  61.0         usa\n",
       "9        10      albacete, wisconsin, spain  26.0       spain\n",
       "10       11  melbourne, victoria, australia  14.0   australia"
      ]
     },
     "execution_count": 41,
     "metadata": {},
     "output_type": "execute_result"
    }
   ],
   "source": [
    "# Checking the columns again \n",
    "users_df1.head()"
   ]
  },
  {
   "cell_type": "code",
   "execution_count": 42,
   "id": "f822536f",
   "metadata": {},
   "outputs": [
    {
     "data": {
      "text/plain": [
       "379"
      ]
     },
     "execution_count": 42,
     "metadata": {},
     "output_type": "execute_result"
    }
   ],
   "source": [
    "# Checking the unique values in the country column \n",
    "users_df1['Country'].nunique()"
   ]
  },
  {
   "cell_type": "code",
   "execution_count": 43,
   "id": "101d63f9",
   "metadata": {},
   "outputs": [
    {
     "data": {
      "text/plain": [
       "166848"
      ]
     },
     "execution_count": 43,
     "metadata": {},
     "output_type": "execute_result"
    }
   ],
   "source": [
    "# Length of the column country \n",
    "len(list(users_df1['Country']))"
   ]
  },
  {
   "cell_type": "code",
   "execution_count": 44,
   "id": "73d7e774",
   "metadata": {},
   "outputs": [],
   "source": [
    "# Converting the unique country names into list to verify them\n",
    "lst = list(users_df1.Country.unique())"
   ]
  },
  {
   "cell_type": "code",
   "execution_count": 45,
   "id": "881d9c94",
   "metadata": {},
   "outputs": [
    {
     "data": {
      "text/plain": [
       "[' usa',\n",
       " ' portugal',\n",
       " ' spain',\n",
       " ' australia',\n",
       " ' brazil',\n",
       " '',\n",
       " ' germany',\n",
       " ' mexico',\n",
       " ' china',\n",
       " ' canada',\n",
       " ' italy',\n",
       " ' united kingdom',\n",
       " ' france',\n",
       " ' netherlands',\n",
       " ' iraq',\n",
       " ' new zealand',\n",
       " ' india',\n",
       " ' ghana',\n",
       " ' switzerland',\n",
       " ' iran',\n",
       " ' bosnia and herzegovina',\n",
       " ' sri lanka',\n",
       " ' belgium',\n",
       " ' malaysia',\n",
       " ' turkey',\n",
       " ' philippines',\n",
       " ' finland',\n",
       " ' norway',\n",
       " ' greece',\n",
       " ' kuwait',\n",
       " ' chile',\n",
       " ' taiwan',\n",
       " ' pakistan',\n",
       " ' espaÃ±a',\n",
       " ' denmark',\n",
       " ' argentina',\n",
       " ' nigeria',\n",
       " ' romania',\n",
       " ' singapore',\n",
       " ' vietnam',\n",
       " ' tunisia',\n",
       " ' egypt',\n",
       " ' uzbekistan',\n",
       " ' qatar',\n",
       " ' syria',\n",
       " ' austria',\n",
       " ' indonesia',\n",
       " ' sudan',\n",
       " ' saudi arabia',\n",
       " ' somewherein space',\n",
       " ' thailand',\n",
       " ' ireland',\n",
       " ' venezuela',\n",
       " ' mozambique',\n",
       " ' morocco',\n",
       " ' colombia',\n",
       " ' spain\"',\n",
       " '\"',\n",
       " ' sweden',\n",
       " ' poland',\n",
       " ' slovakia',\n",
       " ' bulgaria',\n",
       " ' basque country',\n",
       " ' ethiopia',\n",
       " ' united kingdom\"',\n",
       " ' portugal\"',\n",
       " ' japan',\n",
       " ' albania',\n",
       " ' the',\n",
       " ' cuba',\n",
       " ' russia',\n",
       " ' antigua and barbuda',\n",
       " ' nigeria\"',\n",
       " ' jersey',\n",
       " ' belarus',\n",
       " ' cape verde\"',\n",
       " ' lithuania',\n",
       " ' costa rica',\n",
       " ' guyana',\n",
       " ' scotland',\n",
       " ' jordan',\n",
       " ' la argentina',\n",
       " ' angola',\n",
       " ' algeria',\n",
       " ' andorra',\n",
       " ' kyrgyzstan',\n",
       " ' slovenia',\n",
       " ' panama',\n",
       " ' ecuador',\n",
       " ' dominican republic',\n",
       " ' turkey\"',\n",
       " ' brunei',\n",
       " ' bangladesh',\n",
       " ' hong kong',\n",
       " ' monterrey',\n",
       " ' bahrain',\n",
       " ' united arab emirates',\n",
       " ' yugoslavia',\n",
       " ' israel',\n",
       " ' urugua',\n",
       " ' peru',\n",
       " ' l`italia',\n",
       " ' dominica',\n",
       " ' honduras',\n",
       " ' france\"',\n",
       " ' sierra leone',\n",
       " ' guatemala',\n",
       " ' mali',\n",
       " ' germany\"',\n",
       " ' estonia',\n",
       " ' czech republic',\n",
       " ' rwanda',\n",
       " ' trinidad and tobago',\n",
       " ' yemen',\n",
       " ' croatia',\n",
       " ' kazakhstan',\n",
       " ' Ã¶Ã°Â¹Ãº',\n",
       " ' la france',\n",
       " ' eritrea',\n",
       " ' cameroon',\n",
       " ' india\"',\n",
       " ' nicaragua',\n",
       " ' zambia',\n",
       " ' maroc',\n",
       " ' belize',\n",
       " ' south africa',\n",
       " ' namibia',\n",
       " ' uruguay',\n",
       " ' macedonia',\n",
       " ' argentina\"',\n",
       " ' botswana',\n",
       " ' luxembourg',\n",
       " ' queenspark',\n",
       " ' monaco',\n",
       " ' samoa',\n",
       " ' brasil',\n",
       " ' guernsey',\n",
       " ' euskal herria',\n",
       " ' bermuda',\n",
       " ' georgia',\n",
       " ' barbados',\n",
       " ' england',\n",
       " ' armenia',\n",
       " ' south korea',\n",
       " ' hungary',\n",
       " ' austria\"',\n",
       " ' ukraine',\n",
       " ' new zealand\"',\n",
       " ' iceland',\n",
       " ' galiza',\n",
       " ' suriname',\n",
       " ' jamaica',\n",
       " ' &#32654;&#22269;',\n",
       " ' afghanistan',\n",
       " ' latvia',\n",
       " ' u.s. virgin islands',\n",
       " ' catalunya',\n",
       " ' moldova',\n",
       " ' finland\"',\n",
       " ' burma',\n",
       " ' ghana\"',\n",
       " ' ksa',\n",
       " ' tajikistan',\n",
       " ' azerbaijan',\n",
       " ' nepal',\n",
       " ' cote d`ivoire',\n",
       " ' maldives',\n",
       " ' catalunya(catalonia)',\n",
       " ' mÃ£?Ã¢Â©xico',\n",
       " ' caribbean sea',\n",
       " ' peru\"',\n",
       " ' lebanon',\n",
       " ' hong kong\"',\n",
       " ' saint vincent and the grenadines\"',\n",
       " ' lleida',\n",
       " ' cayman islands',\n",
       " ' u.s.a.',\n",
       " ' iran\"',\n",
       " ' u.a.e',\n",
       " ' paraguay',\n",
       " ' belgique',\n",
       " ' deutsches reich',\n",
       " ' catalonia',\n",
       " ' micronesia',\n",
       " ' cyprus',\n",
       " ' bahamas',\n",
       " ' bhutan',\n",
       " ' guinea-bissau',\n",
       " ' cote d`ivoire\"',\n",
       " ' wales',\n",
       " ' equatorial geuinea',\n",
       " ' philippines\"',\n",
       " ' missouri',\n",
       " ' goteborg',\n",
       " ' norway\"',\n",
       " ' united states',\n",
       " ' netherlands\"',\n",
       " ' zimbabwe',\n",
       " ' oman',\n",
       " ' bolivia',\n",
       " ' thailand\"',\n",
       " ' ama lurra',\n",
       " ' polk',\n",
       " ' hamilton',\n",
       " ' fiji',\n",
       " ' catalunya spain',\n",
       " ' malta',\n",
       " ' switzerland\"',\n",
       " ' deutschland',\n",
       " ' papua new guinea',\n",
       " ' costa rica\"',\n",
       " ' slovakia\"',\n",
       " ' brazil\"',\n",
       " ' saint vincent and the grenadines',\n",
       " ' burkina faso',\n",
       " ' grenada',\n",
       " ' ?Ãº?{',\n",
       " ' kenya',\n",
       " ' gabon',\n",
       " ' italia',\n",
       " ' puerto rico',\n",
       " ' north korea',\n",
       " ' commonwealth of northern mariana islands',\n",
       " ' mauritius',\n",
       " ' benin',\n",
       " ' colombia\"',\n",
       " ' holy see',\n",
       " ' cherokee',\n",
       " ' espaÃ£?Ã¢Â±a',\n",
       " ' la belgique',\n",
       " ' sweden\"',\n",
       " ' n/a - on the road',\n",
       " ' chile\"',\n",
       " ' algÃ©rie',\n",
       " ' denmark\"',\n",
       " ' egypt\"',\n",
       " ' alderney',\n",
       " ' el salvador',\n",
       " ' republic of korea',\n",
       " ' cÃ´te d',\n",
       " ' croatia\"',\n",
       " ' greece\"',\n",
       " ' ouranos',\n",
       " ' san bernardino',\n",
       " ' here and there',\n",
       " ' malawi',\n",
       " ' espaÃ£Â±a',\n",
       " ' solomon islands',\n",
       " ' romania\"',\n",
       " ' iceland\"',\n",
       " ' lesotho',\n",
       " ' antarctica',\n",
       " ' chad',\n",
       " ' fifi',\n",
       " ' n/a',\n",
       " ' djibouti',\n",
       " ' america',\n",
       " ' ireland\"',\n",
       " ' marshall islands',\n",
       " ' la suisse',\n",
       " ' netherlands antilles',\n",
       " ' mÃ©xico',\n",
       " ' congo',\n",
       " ' Ã¤Â¸Â\\xadÃ¥?Â½',\n",
       " ' bangladesh\"',\n",
       " ' lornsenland',\n",
       " ' hungary\"',\n",
       " ' china\"',\n",
       " ' p.r.china',\n",
       " ' liberia',\n",
       " ' usa & canada',\n",
       " ' uganda',\n",
       " ' malaysia\"',\n",
       " ' sao tome and principe\"',\n",
       " ' vietnam\"',\n",
       " ' poland\"',\n",
       " ' slovenia\"',\n",
       " ' sicilia',\n",
       " ' sri lanka\"',\n",
       " ' san marino',\n",
       " ' alachua',\n",
       " ' macedonia\"',\n",
       " ' china Ã¶Ã°Â¹Ãº',\n",
       " ' czech republic\"',\n",
       " ' cambodia',\n",
       " ' turkmenistan',\n",
       " ' hillsborough',\n",
       " ' greece (=hellas)',\n",
       " ' isle of man',\n",
       " ' channel islands',\n",
       " ' 5057chadwick ct.',\n",
       " ' far away...',\n",
       " ' laos',\n",
       " ' togo',\n",
       " ' senegal',\n",
       " ' sudan\"',\n",
       " ' niger',\n",
       " ' guatemala\"',\n",
       " ' orense',\n",
       " ' cape verde',\n",
       " ' mexico\"',\n",
       " ' lombardia',\n",
       " ' strongbadia',\n",
       " ' universe',\n",
       " ' berguedÃ\\xa0',\n",
       " ' ysa',\n",
       " 'awrenceville',\n",
       " ' serbia',\n",
       " ' perÃ£Âº',\n",
       " ' aotearoa',\n",
       " ' suisse',\n",
       " ' trinidad and tobago\"',\n",
       " ' guam',\n",
       " ' burma\"',\n",
       " ' andorra\"',\n",
       " ' tanzania',\n",
       " ' saint lucia',\n",
       " ' tonga',\n",
       " ' haiti',\n",
       " ' roma',\n",
       " ' l`algÃ©rie',\n",
       " ' vanuatu',\n",
       " ' uganda\"',\n",
       " ' _ brasil',\n",
       " ' mauritius\"',\n",
       " ' united kindgdom',\n",
       " ' hungary and usa',\n",
       " ' pakistan\"',\n",
       " ' austbritania',\n",
       " ' macau',\n",
       " ' united state',\n",
       " ' the netherlands',\n",
       " ' singapore\"',\n",
       " ' pender',\n",
       " ' vicenza',\n",
       " ' p.r.c',\n",
       " ' quit',\n",
       " ' guinea',\n",
       " ' indonesia\"',\n",
       " ' swaziland',\n",
       " ' phillipines',\n",
       " ' trinidad',\n",
       " ' l',\n",
       " ' wonderful usa',\n",
       " ' burlington',\n",
       " ' madagascar',\n",
       " ' swazilandia',\n",
       " ' u.k.',\n",
       " ' santa barbara',\n",
       " ' mongolia',\n",
       " ' korea',\n",
       " ' saint kitts and nevis',\n",
       " ' comoros',\n",
       " ' morocco\"',\n",
       " ' holland',\n",
       " ' lithuania\"',\n",
       " ' tobago',\n",
       " ' venezuela\"',\n",
       " ' madrid',\n",
       " ' aruba',\n",
       " ' allen',\n",
       " ' belgium\"',\n",
       " ' thing',\n",
       " ' tanzania\"',\n",
       " ' espaÃ±a\"',\n",
       " ' \\\\\"n/a\\\\\"\"',\n",
       " ' mozambique\"',\n",
       " ' w. malaysia',\n",
       " ' le madagascar',\n",
       " ' everywhere and anywhere',\n",
       " ' citrus.',\n",
       " ' x',\n",
       " ' chinaÃ¶Ã°Â¹Ãº',\n",
       " ' galiza neghra',\n",
       " ' asturies',\n",
       " ' &#20013;&#22269;',\n",
       " ' libya',\n",
       " ' palau',\n",
       " ' hernando']"
      ]
     },
     "execution_count": 45,
     "metadata": {},
     "output_type": "execute_result"
    }
   ],
   "source": [
    "lst"
   ]
  },
  {
   "cell_type": "markdown",
   "id": "8deab7f7",
   "metadata": {},
   "source": [
    "From the list of countries we can see that there are so many useless values.\n",
    "- Useless values involve invalid country name of unknows data format.\n",
    "- We shall filter out countries name and try to add the proper values in it."
   ]
  },
  {
   "cell_type": "code",
   "execution_count": 46,
   "id": "0617ddc2",
   "metadata": {},
   "outputs": [],
   "source": [
    "# List of all the useless country names that we have in our dataset\n",
    "ls1 = [' &#32654;&#22269;','','\"',' the',' öð¹ú',' &#32654;&#22269;',' ?ú?{',' n/a - on the road',\n",
    "           ' n/a',' ä¸\\xadå?½',' l',' \\\\\"n/a\\\\\"\"',' x',' &#20013;&#22269;',' ä¸\\xadå?½',' 5057chadwick ct.',\n",
    " ' far away...',' chinaÃ¶Ã°Â¹Ãº',' berguedÃ\\xa0',' china Ã¶Ã°Â¹Ãº']"
   ]
  },
  {
   "cell_type": "code",
   "execution_count": 47,
   "id": "02450169",
   "metadata": {},
   "outputs": [],
   "source": [
    "# Let's drop these columns \n",
    "for x in ls1:\n",
    "    if x in users_df1['Country']:\n",
    "        list(users_df1['Country']).remove(x)"
   ]
  },
  {
   "cell_type": "code",
   "execution_count": 48,
   "id": "97667829",
   "metadata": {},
   "outputs": [
    {
     "data": {
      "text/plain": [
       "[' usa',\n",
       " ' portugal',\n",
       " ' usa',\n",
       " ' spain',\n",
       " ' australia',\n",
       " ' spain',\n",
       " ' brazil',\n",
       " 'others',\n",
       " ' usa',\n",
       " ' spain',\n",
       " ' germany',\n",
       " ' usa',\n",
       " ' usa',\n",
       " ' germany',\n",
       " ' mexico',\n",
       " ' usa',\n",
       " ' china',\n",
       " ' usa',\n",
       " ' usa',\n",
       " ' canada',\n",
       " ' spain',\n",
       " ' italy',\n",
       " ' usa',\n",
       " ' usa',\n",
       " ' usa',\n",
       " ' usa',\n",
       " ' germany',\n",
       " ' italy',\n",
       " ' united kingdom',\n",
       " ' usa',\n",
       " ' usa',\n",
       " ' usa',\n",
       " ' usa',\n",
       " ' usa',\n",
       " ' usa',\n",
       " ' france',\n",
       " ' canada',\n",
       " ' usa',\n",
       " ' usa',\n",
       " ' canada',\n",
       " ' united kingdom',\n",
       " ' netherlands',\n",
       " ' usa',\n",
       " ' usa',\n",
       " ' canada',\n",
       " ' united kingdom',\n",
       " ' usa',\n",
       " ' usa',\n",
       " ' spain',\n",
       " ' usa',\n",
       " ' iraq',\n",
       " ' new zealand',\n",
       " ' usa',\n",
       " ' spain',\n",
       " ' india',\n",
       " ' usa',\n",
       " ' usa',\n",
       " ' united kingdom',\n",
       " ' usa',\n",
       " ' portugal',\n",
       " ' mexico',\n",
       " ' usa',\n",
       " ' usa',\n",
       " ' ghana',\n",
       " ' usa',\n",
       " ' france',\n",
       " ' usa',\n",
       " ' usa',\n",
       " ' usa',\n",
       " ' netherlands',\n",
       " ' switzerland',\n",
       " ' usa',\n",
       " ' usa',\n",
       " ' usa',\n",
       " ' usa',\n",
       " ' usa',\n",
       " ' germany',\n",
       " ' usa',\n",
       " ' usa',\n",
       " ' united kingdom',\n",
       " ' iran',\n",
       " ' netherlands',\n",
       " ' france',\n",
       " ' bosnia and herzegovina',\n",
       " ' italy',\n",
       " ' germany',\n",
       " ' portugal',\n",
       " ' portugal',\n",
       " ' mexico',\n",
       " ' usa',\n",
       " ' australia',\n",
       " ' usa',\n",
       " ' brazil',\n",
       " ' brazil',\n",
       " ' sri lanka',\n",
       " ' united kingdom',\n",
       " ' netherlands',\n",
       " ' usa',\n",
       " ' netherlands',\n",
       " ' portugal',\n",
       " ' usa',\n",
       " ' usa',\n",
       " ' usa',\n",
       " ' belgium',\n",
       " ' belgium',\n",
       " ' germany',\n",
       " ' india',\n",
       " ' usa',\n",
       " ' malaysia',\n",
       " ' germany',\n",
       " ' usa',\n",
       " ' united kingdom',\n",
       " ' canada',\n",
       " ' usa',\n",
       " ' turkey',\n",
       " ' france',\n",
       " ' malaysia',\n",
       " ' usa',\n",
       " ' spain',\n",
       " ' philippines',\n",
       " ' usa',\n",
       " ' canada',\n",
       " ' spain',\n",
       " ' india',\n",
       " ' usa',\n",
       " ' usa',\n",
       " ' india',\n",
       " ' india',\n",
       " ' finland',\n",
       " ' portugal',\n",
       " ' usa',\n",
       " ' united kingdom',\n",
       " ' australia',\n",
       " ' germany',\n",
       " ' usa',\n",
       " ' norway',\n",
       " ' greece',\n",
       " ' canada',\n",
       " ' netherlands',\n",
       " ' usa',\n",
       " ' spain',\n",
       " ' kuwait',\n",
       " ' italy',\n",
       " ' usa',\n",
       " ' chile',\n",
       " ' usa',\n",
       " ' usa',\n",
       " ' germany',\n",
       " ' usa',\n",
       " ' taiwan',\n",
       " ' china',\n",
       " ' usa',\n",
       " ' pakistan',\n",
       " ' usa',\n",
       " ' italy',\n",
       " ' australia',\n",
       " ' usa',\n",
       " ' germany',\n",
       " ' spain',\n",
       " ' usa',\n",
       " ' usa',\n",
       " ' usa',\n",
       " ' usa',\n",
       " ' canada',\n",
       " ' usa',\n",
       " ' spain',\n",
       " ' usa',\n",
       " ' france',\n",
       " ' usa',\n",
       " ' usa',\n",
       " ' usa',\n",
       " ' finland',\n",
       " ' espaÃ±a',\n",
       " ' united kingdom',\n",
       " ' spain',\n",
       " ' netherlands',\n",
       " ' denmark',\n",
       " ' canada',\n",
       " ' usa',\n",
       " ' denmark',\n",
       " ' usa',\n",
       " ' pakistan',\n",
       " ' usa',\n",
       " ' usa',\n",
       " ' pakistan',\n",
       " ' argentina',\n",
       " ' usa',\n",
       " ' spain',\n",
       " ' finland',\n",
       " ' italy',\n",
       " ' spain',\n",
       " ' spain',\n",
       " ' finland',\n",
       " ' philippines',\n",
       " ' france',\n",
       " ' nigeria',\n",
       " ' united kingdom',\n",
       " ' usa',\n",
       " ' canada',\n",
       " ' canada',\n",
       " ' usa',\n",
       " ' spain',\n",
       " ' united kingdom',\n",
       " ' spain',\n",
       " ' spain',\n",
       " ' canada',\n",
       " ' usa',\n",
       " ' usa',\n",
       " ' germany',\n",
       " ' germany',\n",
       " ' germany',\n",
       " ' usa',\n",
       " ' usa',\n",
       " ' canada',\n",
       " ' romania',\n",
       " ' iran',\n",
       " ' usa',\n",
       " ' usa',\n",
       " ' spain',\n",
       " ' usa',\n",
       " ' spain',\n",
       " ' united kingdom',\n",
       " ' united kingdom',\n",
       " ' spain',\n",
       " ' portugal',\n",
       " ' nigeria',\n",
       " ' argentina',\n",
       " ' united kingdom',\n",
       " ' usa',\n",
       " ' spain',\n",
       " ' usa',\n",
       " ' portugal',\n",
       " ' united kingdom',\n",
       " ' usa',\n",
       " ' usa',\n",
       " ' usa',\n",
       " ' usa',\n",
       " ' usa',\n",
       " ' australia',\n",
       " ' usa',\n",
       " ' canada',\n",
       " ' usa',\n",
       " ' canada',\n",
       " ' usa',\n",
       " ' usa',\n",
       " ' usa',\n",
       " ' australia',\n",
       " ' italy',\n",
       " ' usa',\n",
       " ' united kingdom',\n",
       " ' usa',\n",
       " ' usa',\n",
       " ' usa',\n",
       " ' italy',\n",
       " ' usa',\n",
       " ' united kingdom',\n",
       " ' canada',\n",
       " ' usa',\n",
       " ' united kingdom',\n",
       " ' usa',\n",
       " ' usa',\n",
       " ' singapore',\n",
       " ' usa',\n",
       " ' australia',\n",
       " ' india',\n",
       " ' usa',\n",
       " ' australia',\n",
       " ' philippines',\n",
       " ' canada',\n",
       " ' usa',\n",
       " ' usa',\n",
       " ' usa',\n",
       " ' usa',\n",
       " ' usa',\n",
       " ' usa',\n",
       " ' usa',\n",
       " ' usa',\n",
       " ' usa',\n",
       " ' canada',\n",
       " ' usa',\n",
       " ' usa',\n",
       " ' usa',\n",
       " ' usa',\n",
       " ' usa',\n",
       " ' usa',\n",
       " ' usa',\n",
       " ' usa',\n",
       " ' usa',\n",
       " ' usa',\n",
       " ' usa',\n",
       " ' usa',\n",
       " ' usa',\n",
       " ' usa',\n",
       " ' usa',\n",
       " ' usa',\n",
       " ' united kingdom',\n",
       " ' usa',\n",
       " ' australia',\n",
       " ' france',\n",
       " ' germany',\n",
       " ' germany',\n",
       " ' singapore',\n",
       " ' usa',\n",
       " ' usa',\n",
       " ' usa',\n",
       " ' argentina',\n",
       " ' united kingdom',\n",
       " ' usa',\n",
       " ' vietnam',\n",
       " ' usa',\n",
       " ' usa',\n",
       " ' usa',\n",
       " ' vietnam',\n",
       " ' italy',\n",
       " ' india',\n",
       " ' denmark',\n",
       " ' italy',\n",
       " ' usa',\n",
       " ' usa',\n",
       " ' usa',\n",
       " ' usa',\n",
       " ' usa',\n",
       " ' pakistan',\n",
       " ' netherlands',\n",
       " ' tunisia',\n",
       " ' egypt',\n",
       " ' spain',\n",
       " ' portugal',\n",
       " ' switzerland',\n",
       " ' india',\n",
       " ' spain',\n",
       " ' spain',\n",
       " ' australia',\n",
       " ' uzbekistan',\n",
       " ' qatar',\n",
       " ' malaysia',\n",
       " ' usa',\n",
       " ' usa',\n",
       " ' canada',\n",
       " ' usa',\n",
       " ' usa',\n",
       " ' usa',\n",
       " ' syria',\n",
       " ' usa',\n",
       " ' iran',\n",
       " ' usa',\n",
       " ' usa',\n",
       " ' china',\n",
       " ' usa',\n",
       " ' spain',\n",
       " ' spain',\n",
       " ' italy',\n",
       " ' usa',\n",
       " ' italy',\n",
       " ' portugal',\n",
       " ' usa',\n",
       " ' portugal',\n",
       " ' canada',\n",
       " ' spain',\n",
       " ' brazil',\n",
       " ' france',\n",
       " ' austria',\n",
       " ' germany',\n",
       " ' france',\n",
       " ' usa',\n",
       " ' germany',\n",
       " ' canada',\n",
       " ' singapore',\n",
       " ' usa',\n",
       " ' usa',\n",
       " ' france',\n",
       " ' united kingdom',\n",
       " ' australia',\n",
       " ' usa',\n",
       " ' canada',\n",
       " ' usa',\n",
       " ' usa',\n",
       " ' germany',\n",
       " ' canada',\n",
       " ' spain',\n",
       " ' spain',\n",
       " ' india',\n",
       " ' india',\n",
       " ' india',\n",
       " ' italy',\n",
       " ' usa',\n",
       " ' usa',\n",
       " ' usa',\n",
       " ' indonesia',\n",
       " ' usa',\n",
       " ' usa',\n",
       " ' usa',\n",
       " ' usa',\n",
       " ' romania',\n",
       " ' australia',\n",
       " ' france',\n",
       " ' usa',\n",
       " ' united kingdom',\n",
       " ' usa',\n",
       " ' usa',\n",
       " ' canada',\n",
       " ' malaysia',\n",
       " ' usa',\n",
       " ' usa',\n",
       " ' usa',\n",
       " ' usa',\n",
       " ' brazil',\n",
       " ' united kingdom',\n",
       " ' switzerland',\n",
       " ' united kingdom',\n",
       " ' mexico',\n",
       " ' usa',\n",
       " ' canada',\n",
       " ' usa',\n",
       " ' usa',\n",
       " ' portugal',\n",
       " ' usa',\n",
       " ' portugal',\n",
       " 'others',\n",
       " ' new zealand',\n",
       " ' usa',\n",
       " ' germany',\n",
       " ' usa',\n",
       " ' usa',\n",
       " ' usa',\n",
       " ' germany',\n",
       " ' usa',\n",
       " ' spain',\n",
       " ' switzerland',\n",
       " ' spain',\n",
       " ' germany',\n",
       " ' china',\n",
       " ' usa',\n",
       " ' china',\n",
       " ' portugal',\n",
       " ' usa',\n",
       " ' usa',\n",
       " 'others',\n",
       " ' usa',\n",
       " ' portugal',\n",
       " ' sudan',\n",
       " ' usa',\n",
       " ' saudi arabia',\n",
       " ' new zealand',\n",
       " 'others',\n",
       " ' united kingdom',\n",
       " ' usa',\n",
       " ' usa',\n",
       " ' usa',\n",
       " 'others',\n",
       " ' usa',\n",
       " ' usa',\n",
       " ' usa',\n",
       " ' argentina',\n",
       " ' spain',\n",
       " ' usa',\n",
       " ' usa',\n",
       " ' germany',\n",
       " ' usa',\n",
       " ' switzerland',\n",
       " ' canada',\n",
       " ' usa',\n",
       " ' canada',\n",
       " ' italy',\n",
       " ' usa',\n",
       " ' usa',\n",
       " ' italy',\n",
       " ' united kingdom',\n",
       " ' usa',\n",
       " ' usa',\n",
       " ' usa',\n",
       " ' usa',\n",
       " ' usa',\n",
       " ' usa',\n",
       " ' usa',\n",
       " ' spain',\n",
       " ' usa',\n",
       " ' italy',\n",
       " ' usa',\n",
       " ' usa',\n",
       " ' nigeria',\n",
       " ' spain',\n",
       " ' usa',\n",
       " ' germany',\n",
       " ' usa',\n",
       " ' italy',\n",
       " ' usa',\n",
       " ' spain',\n",
       " ' germany',\n",
       " ' spain',\n",
       " ' usa',\n",
       " 'others',\n",
       " ' germany',\n",
       " ' spain',\n",
       " ' malaysia',\n",
       " ' usa',\n",
       " ' united kingdom',\n",
       " ' usa',\n",
       " ' somewherein space',\n",
       " ' spain',\n",
       " ' spain',\n",
       " ' spain',\n",
       " ' romania',\n",
       " ' italy',\n",
       " ' usa',\n",
       " ' united kingdom',\n",
       " ' usa',\n",
       " ' usa',\n",
       " ' canada',\n",
       " ' usa',\n",
       " ' usa',\n",
       " ' usa',\n",
       " ' united kingdom',\n",
       " ' italy',\n",
       " ' australia',\n",
       " ' australia',\n",
       " ' united kingdom',\n",
       " ' australia',\n",
       " ' germany',\n",
       " ' usa',\n",
       " ' united kingdom',\n",
       " ' usa',\n",
       " ' usa',\n",
       " ' usa',\n",
       " ' france',\n",
       " ' usa',\n",
       " ' usa',\n",
       " ' usa',\n",
       " ' united kingdom',\n",
       " ' germany',\n",
       " ' usa',\n",
       " ' australia',\n",
       " ' canada',\n",
       " ' spain',\n",
       " ' usa',\n",
       " ' canada',\n",
       " ' usa',\n",
       " ' france',\n",
       " ' portugal',\n",
       " ' thailand',\n",
       " ' australia',\n",
       " 'others',\n",
       " ' usa',\n",
       " ' usa',\n",
       " ' united kingdom',\n",
       " ' philippines',\n",
       " ' usa',\n",
       " ' france',\n",
       " ' canada',\n",
       " ' philippines',\n",
       " ' france',\n",
       " ' spain',\n",
       " ' canada',\n",
       " ' italy',\n",
       " ' united kingdom',\n",
       " ' italy',\n",
       " ' usa',\n",
       " ' usa',\n",
       " ' ireland',\n",
       " ' brazil',\n",
       " ' spain',\n",
       " ' usa',\n",
       " ' australia',\n",
       " ' ghana',\n",
       " 'others',\n",
       " ' usa',\n",
       " ' australia',\n",
       " ' usa',\n",
       " ' united kingdom',\n",
       " ' spain',\n",
       " ' usa',\n",
       " ' spain',\n",
       " ' usa',\n",
       " ' usa',\n",
       " ' australia',\n",
       " ' new zealand',\n",
       " ' usa',\n",
       " ' italy',\n",
       " ' australia',\n",
       " ' spain',\n",
       " ' usa',\n",
       " ' usa',\n",
       " ' usa',\n",
       " ' usa',\n",
       " ' usa',\n",
       " ' canada',\n",
       " ' usa',\n",
       " ' canada',\n",
       " ' germany',\n",
       " ' united kingdom',\n",
       " ' italy',\n",
       " ' mexico',\n",
       " ' usa',\n",
       " ' usa',\n",
       " ' usa',\n",
       " ' brazil',\n",
       " ' usa',\n",
       " ' usa',\n",
       " ' usa',\n",
       " ' usa',\n",
       " ' usa',\n",
       " ' usa',\n",
       " ' usa',\n",
       " ' usa',\n",
       " ' canada',\n",
       " ' ireland',\n",
       " ' china',\n",
       " ' italy',\n",
       " ' usa',\n",
       " ' usa',\n",
       " ' switzerland',\n",
       " ' spain',\n",
       " ' united kingdom',\n",
       " ' france',\n",
       " ' usa',\n",
       " ' usa',\n",
       " ' new zealand',\n",
       " ' canada',\n",
       " ' united kingdom',\n",
       " ' usa',\n",
       " ' usa',\n",
       " ' canada',\n",
       " ' portugal',\n",
       " ' france',\n",
       " ' italy',\n",
       " ' usa',\n",
       " ' usa',\n",
       " ' spain',\n",
       " ' usa',\n",
       " ' spain',\n",
       " ' usa',\n",
       " ' usa',\n",
       " ' usa',\n",
       " ' usa',\n",
       " ' usa',\n",
       " ' spain',\n",
       " ' usa',\n",
       " ' usa',\n",
       " ' usa',\n",
       " ' canada',\n",
       " ' spain',\n",
       " ' malaysia',\n",
       " ' usa',\n",
       " ' germany',\n",
       " ' usa',\n",
       " ' ireland',\n",
       " ' usa',\n",
       " ' new zealand',\n",
       " ' canada',\n",
       " ' usa',\n",
       " ' usa',\n",
       " ' canada',\n",
       " ' usa',\n",
       " ' spain',\n",
       " ' usa',\n",
       " ' usa',\n",
       " ' venezuela',\n",
       " 'others',\n",
       " ' australia',\n",
       " ' spain',\n",
       " ' spain',\n",
       " ' spain',\n",
       " ' usa',\n",
       " ' chile',\n",
       " ' austria',\n",
       " ' united kingdom',\n",
       " ' spain',\n",
       " ' usa',\n",
       " ' usa',\n",
       " ' usa',\n",
       " ' united kingdom',\n",
       " ' spain',\n",
       " ' usa',\n",
       " ' italy',\n",
       " ' spain',\n",
       " ' canada',\n",
       " ' spain',\n",
       " ' spain',\n",
       " ' usa',\n",
       " ' france',\n",
       " ' usa',\n",
       " ' germany',\n",
       " ' usa',\n",
       " ' usa',\n",
       " ' usa',\n",
       " ' germany',\n",
       " ' usa',\n",
       " ' spain',\n",
       " ' italy',\n",
       " ' usa',\n",
       " ' germany',\n",
       " ' portugal',\n",
       " ' usa',\n",
       " ' mozambique',\n",
       " ' indonesia',\n",
       " ' italy',\n",
       " ' usa',\n",
       " ' australia',\n",
       " ' australia',\n",
       " ' usa',\n",
       " ' germany',\n",
       " ' spain',\n",
       " ' usa',\n",
       " ' malaysia',\n",
       " ' italy',\n",
       " ' spain',\n",
       " ' germany',\n",
       " ' germany',\n",
       " ' argentina',\n",
       " ' usa',\n",
       " 'others',\n",
       " ' morocco',\n",
       " ' canada',\n",
       " ' usa',\n",
       " ' france',\n",
       " ' germany',\n",
       " ' argentina',\n",
       " ' germany',\n",
       " ' united kingdom',\n",
       " ' usa',\n",
       " ' usa',\n",
       " ' malaysia',\n",
       " ' italy',\n",
       " ' usa',\n",
       " ' usa',\n",
       " ' singapore',\n",
       " ' france',\n",
       " ' new zealand',\n",
       " ' netherlands',\n",
       " ' italy',\n",
       " ' spain',\n",
       " ' usa',\n",
       " ' spain',\n",
       " ' new zealand',\n",
       " ' turkey',\n",
       " ' usa',\n",
       " ' canada',\n",
       " ' usa',\n",
       " ' usa',\n",
       " ' usa',\n",
       " ' usa',\n",
       " ' colombia',\n",
       " ' usa',\n",
       " ' spain',\n",
       " ' usa',\n",
       " ' canada',\n",
       " ' brazil',\n",
       " ' usa',\n",
       " ' usa',\n",
       " ' germany',\n",
       " ' usa',\n",
       " ' usa',\n",
       " ' usa',\n",
       " ' canada',\n",
       " ' spain\"',\n",
       " ' usa',\n",
       " ' united kingdom',\n",
       " ' germany',\n",
       " ' usa',\n",
       " ' usa',\n",
       " ' germany',\n",
       " ' usa',\n",
       " ' usa',\n",
       " ' portugal',\n",
       " ' spain',\n",
       " ' usa',\n",
       " ' usa',\n",
       " ' usa',\n",
       " ' nigeria',\n",
       " ' usa',\n",
       " ' usa',\n",
       " ' usa',\n",
       " '\"',\n",
       " ' usa',\n",
       " ' usa',\n",
       " ' italy',\n",
       " ' italy',\n",
       " ' italy',\n",
       " ' usa',\n",
       " 'others',\n",
       " ' united kingdom',\n",
       " ' romania',\n",
       " ' usa',\n",
       " ' italy',\n",
       " ' usa',\n",
       " ' colombia',\n",
       " ' portugal',\n",
       " ' australia',\n",
       " ' united kingdom',\n",
       " ' united kingdom',\n",
       " ' canada',\n",
       " ' usa',\n",
       " ' australia',\n",
       " ' usa',\n",
       " ' united kingdom',\n",
       " ' usa',\n",
       " ' usa',\n",
       " ' italy',\n",
       " ' australia',\n",
       " ' usa',\n",
       " ' spain',\n",
       " ' australia',\n",
       " ' usa',\n",
       " ' usa',\n",
       " ' spain',\n",
       " ' canada',\n",
       " ' usa',\n",
       " ' australia',\n",
       " ' usa',\n",
       " ' usa',\n",
       " ' usa',\n",
       " ' germany',\n",
       " ' usa',\n",
       " ' usa',\n",
       " ' usa',\n",
       " ' italy',\n",
       " ' canada',\n",
       " ' usa',\n",
       " ' australia',\n",
       " ' usa',\n",
       " ' usa',\n",
       " ' spain',\n",
       " ' usa',\n",
       " ' new zealand',\n",
       " ' united kingdom',\n",
       " ' spain',\n",
       " ' argentina',\n",
       " ' usa',\n",
       " ' usa',\n",
       " ' usa',\n",
       " ' usa',\n",
       " ' usa',\n",
       " ' usa',\n",
       " ' germany',\n",
       " ' usa',\n",
       " ' spain',\n",
       " ' usa',\n",
       " ' usa',\n",
       " ' usa',\n",
       " ' usa',\n",
       " ' usa',\n",
       " ' usa',\n",
       " ' netherlands',\n",
       " ' usa',\n",
       " ' united kingdom',\n",
       " ' usa',\n",
       " ' usa',\n",
       " ' spain',\n",
       " ' spain',\n",
       " ' united kingdom',\n",
       " ' netherlands',\n",
       " ' usa',\n",
       " ' usa',\n",
       " ' turkey',\n",
       " ' usa',\n",
       " ' usa',\n",
       " ' usa',\n",
       " ' canada',\n",
       " ' spain',\n",
       " ' france',\n",
       " ' australia',\n",
       " ' mexico',\n",
       " ' spain',\n",
       " ' spain',\n",
       " ' usa',\n",
       " ' sweden',\n",
       " ' spain',\n",
       " ' china',\n",
       " ' netherlands',\n",
       " ' usa',\n",
       " 'others',\n",
       " ' egypt',\n",
       " ' usa',\n",
       " ' usa',\n",
       " ' australia',\n",
       " ' germany',\n",
       " ' germany',\n",
       " ' chile',\n",
       " ' united kingdom',\n",
       " ' poland',\n",
       " ' usa',\n",
       " ' iran',\n",
       " ' united kingdom',\n",
       " ' usa',\n",
       " ' united kingdom',\n",
       " ' usa',\n",
       " ' australia',\n",
       " ' usa',\n",
       " ' usa',\n",
       " ' united kingdom',\n",
       " ' usa',\n",
       " ' denmark',\n",
       " ' usa',\n",
       " ' usa',\n",
       " ' united kingdom',\n",
       " ' united kingdom',\n",
       " ' united kingdom',\n",
       " ' germany',\n",
       " ' china',\n",
       " ' canada',\n",
       " ' usa',\n",
       " ' usa',\n",
       " ' usa',\n",
       " ' ireland',\n",
       " ' spain',\n",
       " ' usa',\n",
       " ' canada',\n",
       " ' australia',\n",
       " ' spain',\n",
       " ' slovakia',\n",
       " ' usa',\n",
       " ' mexico',\n",
       " ' usa',\n",
       " ' usa',\n",
       " ' argentina',\n",
       " ' bulgaria',\n",
       " 'others',\n",
       " ' germany',\n",
       " ' united kingdom',\n",
       " ' italy',\n",
       " 'others',\n",
       " ' usa',\n",
       " ' canada',\n",
       " ' spain',\n",
       " ' basque country',\n",
       " ' india',\n",
       " ' usa',\n",
       " ' usa',\n",
       " ' usa',\n",
       " ' india',\n",
       " ' usa',\n",
       " ' usa',\n",
       " ' usa',\n",
       " ' spain',\n",
       " ' usa',\n",
       " ' usa',\n",
       " ' usa',\n",
       " ' canada',\n",
       " ' usa',\n",
       " ' usa',\n",
       " ' usa',\n",
       " ' usa',\n",
       " ' united kingdom',\n",
       " ' germany',\n",
       " 'others',\n",
       " ' usa',\n",
       " ' germany',\n",
       " ' usa',\n",
       " ' usa',\n",
       " ' usa',\n",
       " ' usa',\n",
       " ' canada',\n",
       " ' usa',\n",
       " ' usa',\n",
       " ' usa',\n",
       " ' usa',\n",
       " ' canada',\n",
       " ' germany',\n",
       " ' new zealand',\n",
       " ' austria',\n",
       " ' usa',\n",
       " ' ethiopia',\n",
       " ' united kingdom',\n",
       " ' usa',\n",
       " ' usa',\n",
       " ' usa',\n",
       " ' china',\n",
       " ' nigeria',\n",
       " ' canada',\n",
       " 'others',\n",
       " ' usa',\n",
       " ' usa',\n",
       " ' belgium',\n",
       " ' germany',\n",
       " ' argentina',\n",
       " ' canada',\n",
       " ' nigeria',\n",
       " ' usa',\n",
       " ' pakistan',\n",
       " ' australia',\n",
       " ' pakistan',\n",
       " ' germany',\n",
       " ' germany',\n",
       " ' france',\n",
       " ' usa',\n",
       " ' poland',\n",
       " ' spain',\n",
       " ' spain',\n",
       " ' spain',\n",
       " ' usa',\n",
       " ' australia',\n",
       " ' usa',\n",
       " ' australia',\n",
       " ' usa',\n",
       " ' usa',\n",
       " ' usa',\n",
       " ' netherlands',\n",
       " ' italy',\n",
       " ' usa',\n",
       " ' australia',\n",
       " ...]"
      ]
     },
     "execution_count": 48,
     "metadata": {},
     "output_type": "execute_result"
    }
   ],
   "source": [
    "# We shall replace empty values with as others \n",
    "users_df1['Country']=users_df1['Country'].replace('','others')\n",
    "list(users_df1['Country'])"
   ]
  },
  {
   "cell_type": "code",
   "execution_count": 49,
   "id": "c3663861",
   "metadata": {},
   "outputs": [
    {
     "data": {
      "text/html": [
       "<div>\n",
       "<style scoped>\n",
       "    .dataframe tbody tr th:only-of-type {\n",
       "        vertical-align: middle;\n",
       "    }\n",
       "\n",
       "    .dataframe tbody tr th {\n",
       "        vertical-align: top;\n",
       "    }\n",
       "\n",
       "    .dataframe thead th {\n",
       "        text-align: right;\n",
       "    }\n",
       "</style>\n",
       "<table border=\"1\" class=\"dataframe\">\n",
       "  <thead>\n",
       "    <tr style=\"text-align: right;\">\n",
       "      <th></th>\n",
       "      <th>Country</th>\n",
       "    </tr>\n",
       "  </thead>\n",
       "  <tbody>\n",
       "    <tr>\n",
       "      <th>usa</th>\n",
       "      <td>76042</td>\n",
       "    </tr>\n",
       "    <tr>\n",
       "      <th>spain</th>\n",
       "      <td>12506</td>\n",
       "    </tr>\n",
       "    <tr>\n",
       "      <th>united kingdom</th>\n",
       "      <td>12425</td>\n",
       "    </tr>\n",
       "    <tr>\n",
       "      <th>canada</th>\n",
       "      <td>11325</td>\n",
       "    </tr>\n",
       "    <tr>\n",
       "      <th>germany</th>\n",
       "      <td>10539</td>\n",
       "    </tr>\n",
       "    <tr>\n",
       "      <th>australia</th>\n",
       "      <td>8809</td>\n",
       "    </tr>\n",
       "    <tr>\n",
       "      <th>italy</th>\n",
       "      <td>5325</td>\n",
       "    </tr>\n",
       "    <tr>\n",
       "      <th>france</th>\n",
       "      <td>2988</td>\n",
       "    </tr>\n",
       "    <tr>\n",
       "      <th>portugal</th>\n",
       "      <td>2639</td>\n",
       "    </tr>\n",
       "    <tr>\n",
       "      <th>new zealand</th>\n",
       "      <td>1986</td>\n",
       "    </tr>\n",
       "    <tr>\n",
       "      <th>others</th>\n",
       "      <td>1978</td>\n",
       "    </tr>\n",
       "    <tr>\n",
       "      <th>brazil</th>\n",
       "      <td>1505</td>\n",
       "    </tr>\n",
       "    <tr>\n",
       "      <th>netherlands</th>\n",
       "      <td>1453</td>\n",
       "    </tr>\n",
       "    <tr>\n",
       "      <th>switzerland</th>\n",
       "      <td>1166</td>\n",
       "    </tr>\n",
       "    <tr>\n",
       "      <th>china</th>\n",
       "      <td>1052</td>\n",
       "    </tr>\n",
       "    <tr>\n",
       "      <th>argentina</th>\n",
       "      <td>983</td>\n",
       "    </tr>\n",
       "    <tr>\n",
       "      <th>india</th>\n",
       "      <td>779</td>\n",
       "    </tr>\n",
       "    <tr>\n",
       "      <th>austria</th>\n",
       "      <td>725</td>\n",
       "    </tr>\n",
       "    <tr>\n",
       "      <th>belgium</th>\n",
       "      <td>661</td>\n",
       "    </tr>\n",
       "    <tr>\n",
       "      <th>mexico</th>\n",
       "      <td>659</td>\n",
       "    </tr>\n",
       "  </tbody>\n",
       "</table>\n",
       "</div>"
      ],
      "text/plain": [
       "                 Country\n",
       " usa               76042\n",
       " spain             12506\n",
       " united kingdom    12425\n",
       " canada            11325\n",
       " germany           10539\n",
       " australia          8809\n",
       " italy              5325\n",
       " france             2988\n",
       " portugal           2639\n",
       " new zealand        1986\n",
       "others              1978\n",
       " brazil             1505\n",
       " netherlands        1453\n",
       " switzerland        1166\n",
       " china              1052\n",
       " argentina           983\n",
       " india               779\n",
       " austria             725\n",
       " belgium             661\n",
       " mexico              659"
      ]
     },
     "execution_count": 49,
     "metadata": {},
     "output_type": "execute_result"
    }
   ],
   "source": [
    "# Let's find out the readers number based on the country \n",
    "df = pd.DataFrame(users_df1['Country'].value_counts())\n",
    "df = df.head(20)\n",
    "df"
   ]
  },
  {
   "cell_type": "code",
   "execution_count": 50,
   "id": "f8cb9903",
   "metadata": {},
   "outputs": [
    {
     "data": {
      "text/plain": [
       "Text(0.5, 1.0, 'Highest number of readers based on the country')"
      ]
     },
     "execution_count": 50,
     "metadata": {},
     "output_type": "execute_result"
    },
    {
     "data": {
      "image/png": "[encoded data removed]",
      "text/plain": [
       "<Figure size 700x420 with 1 Axes>"
      ]
     },
     "metadata": {},
     "output_type": "display_data"
    }
   ],
   "source": [
    "# Plot showing the highest number of readers with respect to country \n",
    "plt.figure(dpi=70, figsize=(10,6))\n",
    "sns.barplot(data=df, y=df.index, x=df['Country'])\n",
    "plt.title('Highest number of readers based on the country')"
   ]
  },
  {
   "cell_type": "markdown",
   "id": "1018bbfc",
   "metadata": {},
   "source": [
    "## Books Dataset "
   ]
  },
  {
   "cell_type": "code",
   "execution_count": 51,
   "id": "b56b8b07",
   "metadata": {},
   "outputs": [
    {
     "data": {
      "text/html": [
       "<div>\n",
       "<style scoped>\n",
       "    .dataframe tbody tr th:only-of-type {\n",
       "        vertical-align: middle;\n",
       "    }\n",
       "\n",
       "    .dataframe tbody tr th {\n",
       "        vertical-align: top;\n",
       "    }\n",
       "\n",
       "    .dataframe thead th {\n",
       "        text-align: right;\n",
       "    }\n",
       "</style>\n",
       "<table border=\"1\" class=\"dataframe\">\n",
       "  <thead>\n",
       "    <tr style=\"text-align: right;\">\n",
       "      <th></th>\n",
       "      <th>ISBN</th>\n",
       "      <th>Book-Title</th>\n",
       "      <th>Book-Author</th>\n",
       "      <th>Year-Of-Publication</th>\n",
       "      <th>Publisher</th>\n",
       "      <th>Image-URL-S</th>\n",
       "      <th>Image-URL-M</th>\n",
       "      <th>Image-URL-L</th>\n",
       "    </tr>\n",
       "  </thead>\n",
       "  <tbody>\n",
       "    <tr>\n",
       "      <th>0</th>\n",
       "      <td>0195153448</td>\n",
       "      <td>Classical Mythology</td>\n",
       "      <td>Mark P. O. Morford</td>\n",
       "      <td>2002</td>\n",
       "      <td>Oxford University Press</td>\n",
       "      <td>http://images.amazon.com/images/P/0195153448.0...</td>\n",
       "      <td>http://images.amazon.com/images/P/0195153448.0...</td>\n",
       "      <td>http://images.amazon.com/images/P/0195153448.0...</td>\n",
       "    </tr>\n",
       "    <tr>\n",
       "      <th>1</th>\n",
       "      <td>0002005018</td>\n",
       "      <td>Clara Callan</td>\n",
       "      <td>Richard Bruce Wright</td>\n",
       "      <td>2001</td>\n",
       "      <td>HarperFlamingo Canada</td>\n",
       "      <td>http://images.amazon.com/images/P/0002005018.0...</td>\n",
       "      <td>http://images.amazon.com/images/P/0002005018.0...</td>\n",
       "      <td>http://images.amazon.com/images/P/0002005018.0...</td>\n",
       "    </tr>\n",
       "    <tr>\n",
       "      <th>2</th>\n",
       "      <td>0060973129</td>\n",
       "      <td>Decision in Normandy</td>\n",
       "      <td>Carlo D'Este</td>\n",
       "      <td>1991</td>\n",
       "      <td>HarperPerennial</td>\n",
       "      <td>http://images.amazon.com/images/P/0060973129.0...</td>\n",
       "      <td>http://images.amazon.com/images/P/0060973129.0...</td>\n",
       "      <td>http://images.amazon.com/images/P/0060973129.0...</td>\n",
       "    </tr>\n",
       "    <tr>\n",
       "      <th>3</th>\n",
       "      <td>0374157065</td>\n",
       "      <td>Flu: The Story of the Great Influenza Pandemic...</td>\n",
       "      <td>Gina Bari Kolata</td>\n",
       "      <td>1999</td>\n",
       "      <td>Farrar Straus Giroux</td>\n",
       "      <td>http://images.amazon.com/images/P/0374157065.0...</td>\n",
       "      <td>http://images.amazon.com/images/P/0374157065.0...</td>\n",
       "      <td>http://images.amazon.com/images/P/0374157065.0...</td>\n",
       "    </tr>\n",
       "    <tr>\n",
       "      <th>4</th>\n",
       "      <td>0393045218</td>\n",
       "      <td>The Mummies of Urumchi</td>\n",
       "      <td>E. J. W. Barber</td>\n",
       "      <td>1999</td>\n",
       "      <td>W. W. Norton &amp;amp; Company</td>\n",
       "      <td>http://images.amazon.com/images/P/0393045218.0...</td>\n",
       "      <td>http://images.amazon.com/images/P/0393045218.0...</td>\n",
       "      <td>http://images.amazon.com/images/P/0393045218.0...</td>\n",
       "    </tr>\n",
       "  </tbody>\n",
       "</table>\n",
       "</div>"
      ],
      "text/plain": [
       "         ISBN                                         Book-Title  \\\n",
       "0  0195153448                                Classical Mythology   \n",
       "1  0002005018                                       Clara Callan   \n",
       "2  0060973129                               Decision in Normandy   \n",
       "3  0374157065  Flu: The Story of the Great Influenza Pandemic...   \n",
       "4  0393045218                             The Mummies of Urumchi   \n",
       "\n",
       "            Book-Author Year-Of-Publication                   Publisher  \\\n",
       "0    Mark P. O. Morford                2002     Oxford University Press   \n",
       "1  Richard Bruce Wright                2001       HarperFlamingo Canada   \n",
       "2          Carlo D'Este                1991             HarperPerennial   \n",
       "3      Gina Bari Kolata                1999        Farrar Straus Giroux   \n",
       "4       E. J. W. Barber                1999  W. W. Norton &amp; Company   \n",
       "\n",
       "                                         Image-URL-S  \\\n",
       "0  http://images.amazon.com/images/P/0195153448.0...   \n",
       "1  http://images.amazon.com/images/P/0002005018.0...   \n",
       "2  http://images.amazon.com/images/P/0060973129.0...   \n",
       "3  http://images.amazon.com/images/P/0374157065.0...   \n",
       "4  http://images.amazon.com/images/P/0393045218.0...   \n",
       "\n",
       "                                         Image-URL-M  \\\n",
       "0  http://images.amazon.com/images/P/0195153448.0...   \n",
       "1  http://images.amazon.com/images/P/0002005018.0...   \n",
       "2  http://images.amazon.com/images/P/0060973129.0...   \n",
       "3  http://images.amazon.com/images/P/0374157065.0...   \n",
       "4  http://images.amazon.com/images/P/0393045218.0...   \n",
       "\n",
       "                                         Image-URL-L  \n",
       "0  http://images.amazon.com/images/P/0195153448.0...  \n",
       "1  http://images.amazon.com/images/P/0002005018.0...  \n",
       "2  http://images.amazon.com/images/P/0060973129.0...  \n",
       "3  http://images.amazon.com/images/P/0374157065.0...  \n",
       "4  http://images.amazon.com/images/P/0393045218.0...  "
      ]
     },
     "execution_count": 51,
     "metadata": {},
     "output_type": "execute_result"
    }
   ],
   "source": [
    "# Let's explore book dataset\n",
    "books_df = books.copy()\n",
    "books_df.head()"
   ]
  },
  {
   "cell_type": "markdown",
   "id": "4b1099c9",
   "metadata": {},
   "source": [
    "#### Checking and removing null values "
   ]
  },
  {
   "cell_type": "code",
   "execution_count": 52,
   "id": "27cf72a9",
   "metadata": {},
   "outputs": [
    {
     "data": {
      "text/plain": [
       "ISBN                   0\n",
       "Book-Title             0\n",
       "Book-Author            1\n",
       "Year-Of-Publication    0\n",
       "Publisher              2\n",
       "Image-URL-S            0\n",
       "Image-URL-M            0\n",
       "Image-URL-L            3\n",
       "dtype: int64"
      ]
     },
     "execution_count": 52,
     "metadata": {},
     "output_type": "execute_result"
    }
   ],
   "source": [
    "# Checking the null values\n",
    "books_df.isnull().sum()"
   ]
  },
  {
   "cell_type": "code",
   "execution_count": 53,
   "id": "a262c6d2",
   "metadata": {},
   "outputs": [],
   "source": [
    "# Dropping the null values\n",
    "books_df1 = books_df.dropna()"
   ]
  },
  {
   "cell_type": "code",
   "execution_count": 54,
   "id": "3ed13097",
   "metadata": {},
   "outputs": [
    {
     "data": {
      "text/plain": [
       "ISBN                   0\n",
       "Book-Title             0\n",
       "Book-Author            0\n",
       "Year-Of-Publication    0\n",
       "Publisher              0\n",
       "Image-URL-S            0\n",
       "Image-URL-M            0\n",
       "Image-URL-L            0\n",
       "dtype: int64"
      ]
     },
     "execution_count": 54,
     "metadata": {},
     "output_type": "execute_result"
    }
   ],
   "source": [
    "# Now we don't have any null values in our dataset\n",
    "books_df1.isnull().sum()"
   ]
  },
  {
   "cell_type": "code",
   "execution_count": 55,
   "id": "497b49e9",
   "metadata": {},
   "outputs": [
    {
     "data": {
      "text/html": [
       "<div>\n",
       "<style scoped>\n",
       "    .dataframe tbody tr th:only-of-type {\n",
       "        vertical-align: middle;\n",
       "    }\n",
       "\n",
       "    .dataframe tbody tr th {\n",
       "        vertical-align: top;\n",
       "    }\n",
       "\n",
       "    .dataframe thead th {\n",
       "        text-align: right;\n",
       "    }\n",
       "</style>\n",
       "<table border=\"1\" class=\"dataframe\">\n",
       "  <thead>\n",
       "    <tr style=\"text-align: right;\">\n",
       "      <th></th>\n",
       "      <th>Book-Author</th>\n",
       "    </tr>\n",
       "  </thead>\n",
       "  <tbody>\n",
       "    <tr>\n",
       "      <th>Agatha Christie</th>\n",
       "      <td>632</td>\n",
       "    </tr>\n",
       "    <tr>\n",
       "      <th>William Shakespeare</th>\n",
       "      <td>567</td>\n",
       "    </tr>\n",
       "    <tr>\n",
       "      <th>Stephen King</th>\n",
       "      <td>524</td>\n",
       "    </tr>\n",
       "    <tr>\n",
       "      <th>Ann M. Martin</th>\n",
       "      <td>423</td>\n",
       "    </tr>\n",
       "    <tr>\n",
       "      <th>Carolyn Keene</th>\n",
       "      <td>373</td>\n",
       "    </tr>\n",
       "    <tr>\n",
       "      <th>Francine Pascal</th>\n",
       "      <td>372</td>\n",
       "    </tr>\n",
       "    <tr>\n",
       "      <th>Isaac Asimov</th>\n",
       "      <td>330</td>\n",
       "    </tr>\n",
       "    <tr>\n",
       "      <th>Nora Roberts</th>\n",
       "      <td>315</td>\n",
       "    </tr>\n",
       "    <tr>\n",
       "      <th>Barbara Cartland</th>\n",
       "      <td>307</td>\n",
       "    </tr>\n",
       "    <tr>\n",
       "      <th>Charles Dickens</th>\n",
       "      <td>302</td>\n",
       "    </tr>\n",
       "  </tbody>\n",
       "</table>\n",
       "</div>"
      ],
      "text/plain": [
       "                     Book-Author\n",
       "Agatha Christie              632\n",
       "William Shakespeare          567\n",
       "Stephen King                 524\n",
       "Ann M. Martin                423\n",
       "Carolyn Keene                373\n",
       "Francine Pascal              372\n",
       "Isaac Asimov                 330\n",
       "Nora Roberts                 315\n",
       "Barbara Cartland             307\n",
       "Charles Dickens              302"
      ]
     },
     "execution_count": 55,
     "metadata": {},
     "output_type": "execute_result"
    }
   ],
   "source": [
    "# Let's explore the top 10 authors \n",
    "df = pd.DataFrame(books_df1['Book-Author'].value_counts())\n",
    "df = df.head(10)\n",
    "df"
   ]
  },
  {
   "cell_type": "markdown",
   "id": "e60b3a8c",
   "metadata": {},
   "source": [
    "## Top 10 Authors "
   ]
  },
  {
   "cell_type": "code",
   "execution_count": 56,
   "id": "7d6b0404",
   "metadata": {},
   "outputs": [
    {
     "data": {
      "text/plain": [
       "Text(0, 0.5, 'Authors name')"
      ]
     },
     "execution_count": 56,
     "metadata": {},
     "output_type": "execute_result"
    },
    {
     "data": {
      "image/png": "[encoded data removed]",
      "text/plain": [
       "<Figure size 560x350 with 1 Axes>"
      ]
     },
     "metadata": {},
     "output_type": "display_data"
    }
   ],
   "source": [
    "# Barplot showing the top 10 authors \n",
    "plt.figure(figsize=(8,5), dpi=70)\n",
    "sns.barplot(data=df, y=df.index, x=df['Book-Author'])\n",
    "plt.title('Top 10 Authors')\n",
    "plt.xlabel('count')\n",
    "plt.ylabel('Authors name')"
   ]
  },
  {
   "cell_type": "markdown",
   "id": "1e41da71",
   "metadata": {},
   "source": [
    "## Top 10 Publishers"
   ]
  },
  {
   "cell_type": "code",
   "execution_count": 57,
   "id": "a05b5df5",
   "metadata": {},
   "outputs": [
    {
     "data": {
      "text/plain": [
       "Text(0, 0.5, 'Publishers name')"
      ]
     },
     "execution_count": 57,
     "metadata": {},
     "output_type": "execute_result"
    },
    {
     "data": {
      "image/png": "[encoded data removed]",
      "text/plain": [
       "<Figure size 560x350 with 1 Axes>"
      ]
     },
     "metadata": {},
     "output_type": "display_data"
    }
   ],
   "source": [
    "# Top 10 publishers based on the count of the books published\n",
    "df = pd.DataFrame(books_df1['Publisher'].value_counts())\n",
    "df = df.head(10)\n",
    "plt.figure(figsize=(8,5), dpi=70)\n",
    "sns.barplot(data=df, y=df.index, x=df['Publisher'])\n",
    "plt.title('Top 10 Publishers')\n",
    "plt.xlabel('count')\n",
    "plt.ylabel('Publishers name')"
   ]
  },
  {
   "cell_type": "markdown",
   "id": "a784bbb3",
   "metadata": {},
   "source": [
    "### Let's rename the columns of the datasets \n",
    "\n",
    "We shall be renaming the below columns:\n",
    "- Books dataset\n",
    "- Users dataset\n",
    "- Ratings dataset"
   ]
  },
  {
   "cell_type": "code",
   "execution_count": 58,
   "id": "473807ed",
   "metadata": {},
   "outputs": [
    {
     "data": {
      "text/plain": [
       "Index(['ISBN', 'Book-Title', 'Book-Author', 'Year-Of-Publication', 'Publisher',\n",
       "       'Image-URL-S', 'Image-URL-M', 'Image-URL-L'],\n",
       "      dtype='object')"
      ]
     },
     "execution_count": 58,
     "metadata": {},
     "output_type": "execute_result"
    }
   ],
   "source": [
    "# Columns of the books \n",
    "books.columns"
   ]
  },
  {
   "cell_type": "code",
   "execution_count": 59,
   "id": "87968e11",
   "metadata": {},
   "outputs": [],
   "source": [
    "# Removing the unnecessary columns \n",
    "books = books[['ISBN', 'Book-Title', 'Book-Author', 'Year-Of-Publication', 'Publisher']]"
   ]
  },
  {
   "cell_type": "code",
   "execution_count": 60,
   "id": "22afdc4d",
   "metadata": {},
   "outputs": [
    {
     "data": {
      "text/html": [
       "<div>\n",
       "<style scoped>\n",
       "    .dataframe tbody tr th:only-of-type {\n",
       "        vertical-align: middle;\n",
       "    }\n",
       "\n",
       "    .dataframe tbody tr th {\n",
       "        vertical-align: top;\n",
       "    }\n",
       "\n",
       "    .dataframe thead th {\n",
       "        text-align: right;\n",
       "    }\n",
       "</style>\n",
       "<table border=\"1\" class=\"dataframe\">\n",
       "  <thead>\n",
       "    <tr style=\"text-align: right;\">\n",
       "      <th></th>\n",
       "      <th>ISBN</th>\n",
       "      <th>Book-Title</th>\n",
       "      <th>Book-Author</th>\n",
       "      <th>Year-Of-Publication</th>\n",
       "      <th>Publisher</th>\n",
       "    </tr>\n",
       "  </thead>\n",
       "  <tbody>\n",
       "    <tr>\n",
       "      <th>0</th>\n",
       "      <td>0195153448</td>\n",
       "      <td>Classical Mythology</td>\n",
       "      <td>Mark P. O. Morford</td>\n",
       "      <td>2002</td>\n",
       "      <td>Oxford University Press</td>\n",
       "    </tr>\n",
       "    <tr>\n",
       "      <th>1</th>\n",
       "      <td>0002005018</td>\n",
       "      <td>Clara Callan</td>\n",
       "      <td>Richard Bruce Wright</td>\n",
       "      <td>2001</td>\n",
       "      <td>HarperFlamingo Canada</td>\n",
       "    </tr>\n",
       "  </tbody>\n",
       "</table>\n",
       "</div>"
      ],
      "text/plain": [
       "         ISBN           Book-Title           Book-Author Year-Of-Publication  \\\n",
       "0  0195153448  Classical Mythology    Mark P. O. Morford                2002   \n",
       "1  0002005018         Clara Callan  Richard Bruce Wright                2001   \n",
       "\n",
       "                 Publisher  \n",
       "0  Oxford University Press  \n",
       "1    HarperFlamingo Canada  "
      ]
     },
     "execution_count": 60,
     "metadata": {},
     "output_type": "execute_result"
    }
   ],
   "source": [
    "books.head(2)"
   ]
  },
  {
   "cell_type": "code",
   "execution_count": 61,
   "id": "2dde992f",
   "metadata": {},
   "outputs": [],
   "source": [
    "# Renaming the stiff coulmns into normal one\n",
    "books.rename(columns={'Book-Title':'title',\n",
    "             'Book-Author':'author',\n",
    "             'Year-Of-Publication':'year',\n",
    "             'Publisher':'publisher'}, inplace=True)"
   ]
  },
  {
   "cell_type": "code",
   "execution_count": 62,
   "id": "5accfe04",
   "metadata": {},
   "outputs": [
    {
     "data": {
      "text/html": [
       "<div>\n",
       "<style scoped>\n",
       "    .dataframe tbody tr th:only-of-type {\n",
       "        vertical-align: middle;\n",
       "    }\n",
       "\n",
       "    .dataframe tbody tr th {\n",
       "        vertical-align: top;\n",
       "    }\n",
       "\n",
       "    .dataframe thead th {\n",
       "        text-align: right;\n",
       "    }\n",
       "</style>\n",
       "<table border=\"1\" class=\"dataframe\">\n",
       "  <thead>\n",
       "    <tr style=\"text-align: right;\">\n",
       "      <th></th>\n",
       "      <th>ISBN</th>\n",
       "      <th>title</th>\n",
       "      <th>author</th>\n",
       "      <th>year</th>\n",
       "      <th>publisher</th>\n",
       "    </tr>\n",
       "  </thead>\n",
       "  <tbody>\n",
       "    <tr>\n",
       "      <th>0</th>\n",
       "      <td>0195153448</td>\n",
       "      <td>Classical Mythology</td>\n",
       "      <td>Mark P. O. Morford</td>\n",
       "      <td>2002</td>\n",
       "      <td>Oxford University Press</td>\n",
       "    </tr>\n",
       "    <tr>\n",
       "      <th>1</th>\n",
       "      <td>0002005018</td>\n",
       "      <td>Clara Callan</td>\n",
       "      <td>Richard Bruce Wright</td>\n",
       "      <td>2001</td>\n",
       "      <td>HarperFlamingo Canada</td>\n",
       "    </tr>\n",
       "  </tbody>\n",
       "</table>\n",
       "</div>"
      ],
      "text/plain": [
       "         ISBN                title                author  year  \\\n",
       "0  0195153448  Classical Mythology    Mark P. O. Morford  2002   \n",
       "1  0002005018         Clara Callan  Richard Bruce Wright  2001   \n",
       "\n",
       "                 publisher  \n",
       "0  Oxford University Press  \n",
       "1    HarperFlamingo Canada  "
      ]
     },
     "execution_count": 62,
     "metadata": {},
     "output_type": "execute_result"
    }
   ],
   "source": [
    "books.head(2)"
   ]
  },
  {
   "cell_type": "code",
   "execution_count": 63,
   "id": "744f6eaf",
   "metadata": {},
   "outputs": [
    {
     "data": {
      "text/plain": [
       "Index(['User-ID', 'Location', 'Age'], dtype='object')"
      ]
     },
     "execution_count": 63,
     "metadata": {},
     "output_type": "execute_result"
    }
   ],
   "source": [
    "# Checking the columns of the users \n",
    "users.columns"
   ]
  },
  {
   "cell_type": "code",
   "execution_count": 64,
   "id": "64f1cff4",
   "metadata": {},
   "outputs": [],
   "source": [
    "# Renaming the columns \n",
    "users = users.rename(columns={'User-ID':'user_id','Location':'location','Age':'age'})"
   ]
  },
  {
   "cell_type": "code",
   "execution_count": 65,
   "id": "bb47e2e5",
   "metadata": {},
   "outputs": [
    {
     "data": {
      "text/plain": [
       "Index(['user_id', 'location', 'age'], dtype='object')"
      ]
     },
     "execution_count": 65,
     "metadata": {},
     "output_type": "execute_result"
    }
   ],
   "source": [
    "# Verifying the name of the columns \n",
    "users.columns"
   ]
  },
  {
   "cell_type": "code",
   "execution_count": 66,
   "id": "f8486a28",
   "metadata": {},
   "outputs": [
    {
     "data": {
      "text/html": [
       "<div>\n",
       "<style scoped>\n",
       "    .dataframe tbody tr th:only-of-type {\n",
       "        vertical-align: middle;\n",
       "    }\n",
       "\n",
       "    .dataframe tbody tr th {\n",
       "        vertical-align: top;\n",
       "    }\n",
       "\n",
       "    .dataframe thead th {\n",
       "        text-align: right;\n",
       "    }\n",
       "</style>\n",
       "<table border=\"1\" class=\"dataframe\">\n",
       "  <thead>\n",
       "    <tr style=\"text-align: right;\">\n",
       "      <th></th>\n",
       "      <th>User-ID</th>\n",
       "      <th>ISBN</th>\n",
       "      <th>Book-Rating</th>\n",
       "    </tr>\n",
       "  </thead>\n",
       "  <tbody>\n",
       "    <tr>\n",
       "      <th>0</th>\n",
       "      <td>276725</td>\n",
       "      <td>034545104X</td>\n",
       "      <td>0</td>\n",
       "    </tr>\n",
       "    <tr>\n",
       "      <th>1</th>\n",
       "      <td>276726</td>\n",
       "      <td>0155061224</td>\n",
       "      <td>5</td>\n",
       "    </tr>\n",
       "    <tr>\n",
       "      <th>2</th>\n",
       "      <td>276727</td>\n",
       "      <td>0446520802</td>\n",
       "      <td>0</td>\n",
       "    </tr>\n",
       "    <tr>\n",
       "      <th>3</th>\n",
       "      <td>276729</td>\n",
       "      <td>052165615X</td>\n",
       "      <td>3</td>\n",
       "    </tr>\n",
       "    <tr>\n",
       "      <th>4</th>\n",
       "      <td>276729</td>\n",
       "      <td>0521795028</td>\n",
       "      <td>6</td>\n",
       "    </tr>\n",
       "  </tbody>\n",
       "</table>\n",
       "</div>"
      ],
      "text/plain": [
       "   User-ID        ISBN  Book-Rating\n",
       "0   276725  034545104X            0\n",
       "1   276726  0155061224            5\n",
       "2   276727  0446520802            0\n",
       "3   276729  052165615X            3\n",
       "4   276729  0521795028            6"
      ]
     },
     "execution_count": 66,
     "metadata": {},
     "output_type": "execute_result"
    }
   ],
   "source": [
    "# CHecking the ratings dataset\n",
    "ratings.head()"
   ]
  },
  {
   "cell_type": "code",
   "execution_count": 67,
   "id": "dc311d19",
   "metadata": {},
   "outputs": [],
   "source": [
    "# Renaming the columns of the updated dataset\n",
    "ratings = ratings.rename(columns={'User-ID':'user_id', 'Book-Rating':'rating'})"
   ]
  },
  {
   "cell_type": "code",
   "execution_count": 68,
   "id": "8569ffbe",
   "metadata": {},
   "outputs": [
    {
     "data": {
      "text/html": [
       "<div>\n",
       "<style scoped>\n",
       "    .dataframe tbody tr th:only-of-type {\n",
       "        vertical-align: middle;\n",
       "    }\n",
       "\n",
       "    .dataframe tbody tr th {\n",
       "        vertical-align: top;\n",
       "    }\n",
       "\n",
       "    .dataframe thead th {\n",
       "        text-align: right;\n",
       "    }\n",
       "</style>\n",
       "<table border=\"1\" class=\"dataframe\">\n",
       "  <thead>\n",
       "    <tr style=\"text-align: right;\">\n",
       "      <th></th>\n",
       "      <th>user_id</th>\n",
       "      <th>ISBN</th>\n",
       "      <th>rating</th>\n",
       "    </tr>\n",
       "  </thead>\n",
       "  <tbody>\n",
       "    <tr>\n",
       "      <th>0</th>\n",
       "      <td>276725</td>\n",
       "      <td>034545104X</td>\n",
       "      <td>0</td>\n",
       "    </tr>\n",
       "    <tr>\n",
       "      <th>1</th>\n",
       "      <td>276726</td>\n",
       "      <td>0155061224</td>\n",
       "      <td>5</td>\n",
       "    </tr>\n",
       "  </tbody>\n",
       "</table>\n",
       "</div>"
      ],
      "text/plain": [
       "   user_id        ISBN  rating\n",
       "0   276725  034545104X       0\n",
       "1   276726  0155061224       5"
      ]
     },
     "execution_count": 68,
     "metadata": {},
     "output_type": "execute_result"
    }
   ],
   "source": [
    "ratings.head(2)"
   ]
  },
  {
   "cell_type": "code",
   "execution_count": 69,
   "id": "ef60c6c2",
   "metadata": {},
   "outputs": [
    {
     "data": {
      "text/plain": [
       "(278858, 3)"
      ]
     },
     "execution_count": 69,
     "metadata": {},
     "output_type": "execute_result"
    }
   ],
   "source": [
    "# Rechecking the shape \n",
    "users.shape"
   ]
  },
  {
   "cell_type": "code",
   "execution_count": 70,
   "id": "e6f0584f",
   "metadata": {},
   "outputs": [
    {
     "data": {
      "text/plain": [
       "(1149780, 3)"
      ]
     },
     "execution_count": 70,
     "metadata": {},
     "output_type": "execute_result"
    }
   ],
   "source": [
    "# Ratings shape\n",
    "ratings.shape"
   ]
  },
  {
   "cell_type": "code",
   "execution_count": 71,
   "id": "4da7a8ac",
   "metadata": {},
   "outputs": [
    {
     "data": {
      "text/plain": [
       "(271360, 5)"
      ]
     },
     "execution_count": 71,
     "metadata": {},
     "output_type": "execute_result"
    }
   ],
   "source": [
    "# Books shape \n",
    "books.shape"
   ]
  },
  {
   "cell_type": "markdown",
   "id": "67da2356",
   "metadata": {},
   "source": [
    "# Taking the users having 200 ratings and minimum 50 users\n",
    "Now we shall see that how many users have provided rating "
   ]
  },
  {
   "cell_type": "code",
   "execution_count": 72,
   "id": "34fc88ed",
   "metadata": {},
   "outputs": [
    {
     "data": {
      "text/plain": [
       "(105283,)"
      ]
     },
     "execution_count": 72,
     "metadata": {},
     "output_type": "execute_result"
    }
   ],
   "source": [
    "ratings['user_id'].value_counts().shape"
   ]
  },
  {
   "cell_type": "markdown",
   "id": "a65f3535",
   "metadata": {},
   "source": [
    "We have 105283 users who rated the books out of 278858 users\n",
    "\n",
    "<br>\n",
    "\n",
    "##  Let's see the users rated more than 200 times\n",
    "Now we shall remove the users based on two conditions\n",
    "- The users who rated less than 200 (<200)\n",
    "- And the books which were rated less than 50 (<50)"
   ]
  },
  {
   "cell_type": "code",
   "execution_count": 73,
   "id": "fc930105",
   "metadata": {},
   "outputs": [],
   "source": [
    "# Removing the users rated less than 200 times\n",
    "df = ratings['user_id'].value_counts() > 200"
   ]
  },
  {
   "cell_type": "code",
   "execution_count": 74,
   "id": "f277fe7f",
   "metadata": {},
   "outputs": [
    {
     "data": {
      "text/plain": [
       "(899,)"
      ]
     },
     "execution_count": 74,
     "metadata": {},
     "output_type": "execute_result"
    }
   ],
   "source": [
    "df[df].shape"
   ]
  },
  {
   "cell_type": "markdown",
   "id": "9e2bb1d0",
   "metadata": {},
   "source": [
    "- So we have 899 users who have rated more than 200 times.\n",
    "- Hence we shall take them forward for the model "
   ]
  },
  {
   "cell_type": "code",
   "execution_count": 75,
   "id": "36625219",
   "metadata": {},
   "outputs": [],
   "source": [
    "# Index of the users who have reviwed 200 times\n",
    "uid = df[df].index"
   ]
  },
  {
   "cell_type": "code",
   "execution_count": 76,
   "id": "a2b2c148",
   "metadata": {},
   "outputs": [],
   "source": [
    "# Extracting the UID from the ratings columns \n",
    "ratings = ratings[ratings['user_id'].isin(uid)]"
   ]
  },
  {
   "cell_type": "code",
   "execution_count": 77,
   "id": "e2e075d0",
   "metadata": {},
   "outputs": [
    {
     "data": {
      "text/html": [
       "<div>\n",
       "<style scoped>\n",
       "    .dataframe tbody tr th:only-of-type {\n",
       "        vertical-align: middle;\n",
       "    }\n",
       "\n",
       "    .dataframe tbody tr th {\n",
       "        vertical-align: top;\n",
       "    }\n",
       "\n",
       "    .dataframe thead th {\n",
       "        text-align: right;\n",
       "    }\n",
       "</style>\n",
       "<table border=\"1\" class=\"dataframe\">\n",
       "  <thead>\n",
       "    <tr style=\"text-align: right;\">\n",
       "      <th></th>\n",
       "      <th>user_id</th>\n",
       "      <th>ISBN</th>\n",
       "      <th>rating</th>\n",
       "    </tr>\n",
       "  </thead>\n",
       "  <tbody>\n",
       "    <tr>\n",
       "      <th>1456</th>\n",
       "      <td>277427</td>\n",
       "      <td>002542730X</td>\n",
       "      <td>10</td>\n",
       "    </tr>\n",
       "    <tr>\n",
       "      <th>1457</th>\n",
       "      <td>277427</td>\n",
       "      <td>0026217457</td>\n",
       "      <td>0</td>\n",
       "    </tr>\n",
       "    <tr>\n",
       "      <th>1458</th>\n",
       "      <td>277427</td>\n",
       "      <td>003008685X</td>\n",
       "      <td>8</td>\n",
       "    </tr>\n",
       "    <tr>\n",
       "      <th>1459</th>\n",
       "      <td>277427</td>\n",
       "      <td>0030615321</td>\n",
       "      <td>0</td>\n",
       "    </tr>\n",
       "    <tr>\n",
       "      <th>1460</th>\n",
       "      <td>277427</td>\n",
       "      <td>0060002050</td>\n",
       "      <td>0</td>\n",
       "    </tr>\n",
       "  </tbody>\n",
       "</table>\n",
       "</div>"
      ],
      "text/plain": [
       "      user_id        ISBN  rating\n",
       "1456   277427  002542730X      10\n",
       "1457   277427  0026217457       0\n",
       "1458   277427  003008685X       8\n",
       "1459   277427  0030615321       0\n",
       "1460   277427  0060002050       0"
      ]
     },
     "execution_count": 77,
     "metadata": {},
     "output_type": "execute_result"
    }
   ],
   "source": [
    "ratings.head()"
   ]
  },
  {
   "cell_type": "code",
   "execution_count": 78,
   "id": "348be6c1",
   "metadata": {},
   "outputs": [],
   "source": [
    "# Merging the books based on ISBN\n",
    "ratings_with_books = ratings.merge(books, on='ISBN')"
   ]
  },
  {
   "cell_type": "code",
   "execution_count": 79,
   "id": "33812207",
   "metadata": {},
   "outputs": [
    {
     "data": {
      "text/html": [
       "<div>\n",
       "<style scoped>\n",
       "    .dataframe tbody tr th:only-of-type {\n",
       "        vertical-align: middle;\n",
       "    }\n",
       "\n",
       "    .dataframe tbody tr th {\n",
       "        vertical-align: top;\n",
       "    }\n",
       "\n",
       "    .dataframe thead th {\n",
       "        text-align: right;\n",
       "    }\n",
       "</style>\n",
       "<table border=\"1\" class=\"dataframe\">\n",
       "  <thead>\n",
       "    <tr style=\"text-align: right;\">\n",
       "      <th></th>\n",
       "      <th>user_id</th>\n",
       "      <th>ISBN</th>\n",
       "      <th>rating</th>\n",
       "      <th>title</th>\n",
       "      <th>author</th>\n",
       "      <th>year</th>\n",
       "      <th>publisher</th>\n",
       "    </tr>\n",
       "  </thead>\n",
       "  <tbody>\n",
       "    <tr>\n",
       "      <th>0</th>\n",
       "      <td>277427</td>\n",
       "      <td>002542730X</td>\n",
       "      <td>10</td>\n",
       "      <td>Politically Correct Bedtime Stories: Modern Ta...</td>\n",
       "      <td>James Finn Garner</td>\n",
       "      <td>1994</td>\n",
       "      <td>John Wiley &amp;amp; Sons Inc</td>\n",
       "    </tr>\n",
       "    <tr>\n",
       "      <th>1</th>\n",
       "      <td>3363</td>\n",
       "      <td>002542730X</td>\n",
       "      <td>0</td>\n",
       "      <td>Politically Correct Bedtime Stories: Modern Ta...</td>\n",
       "      <td>James Finn Garner</td>\n",
       "      <td>1994</td>\n",
       "      <td>John Wiley &amp;amp; Sons Inc</td>\n",
       "    </tr>\n",
       "  </tbody>\n",
       "</table>\n",
       "</div>"
      ],
      "text/plain": [
       "   user_id        ISBN  rating  \\\n",
       "0   277427  002542730X      10   \n",
       "1     3363  002542730X       0   \n",
       "\n",
       "                                               title             author  year  \\\n",
       "0  Politically Correct Bedtime Stories: Modern Ta...  James Finn Garner  1994   \n",
       "1  Politically Correct Bedtime Stories: Modern Ta...  James Finn Garner  1994   \n",
       "\n",
       "                   publisher  \n",
       "0  John Wiley &amp; Sons Inc  \n",
       "1  John Wiley &amp; Sons Inc  "
      ]
     },
     "execution_count": 79,
     "metadata": {},
     "output_type": "execute_result"
    }
   ],
   "source": [
    "ratings_with_books.head(2)"
   ]
  },
  {
   "cell_type": "code",
   "execution_count": 80,
   "id": "d72b6442",
   "metadata": {},
   "outputs": [
    {
     "data": {
      "text/plain": [
       "(487671, 7)"
      ]
     },
     "execution_count": 80,
     "metadata": {},
     "output_type": "execute_result"
    }
   ],
   "source": [
    "# Shape of the books rating \n",
    "ratings_with_books.shape"
   ]
  },
  {
   "cell_type": "code",
   "execution_count": 81,
   "id": "65e33f1b",
   "metadata": {},
   "outputs": [],
   "source": [
    "# Gouping the dataset based on title and Rating \n",
    "number_rating = ratings_with_books.groupby('title')['rating'].count().reset_index()"
   ]
  },
  {
   "cell_type": "code",
   "execution_count": 82,
   "id": "58be9e7c",
   "metadata": {},
   "outputs": [],
   "source": [
    "# Let's rename the rating column\n",
    "number_rating.rename(columns={'rating':'number of rating'},inplace=True)"
   ]
  },
  {
   "cell_type": "code",
   "execution_count": 83,
   "id": "f3504c64",
   "metadata": {},
   "outputs": [
    {
     "data": {
      "text/html": [
       "<div>\n",
       "<style scoped>\n",
       "    .dataframe tbody tr th:only-of-type {\n",
       "        vertical-align: middle;\n",
       "    }\n",
       "\n",
       "    .dataframe tbody tr th {\n",
       "        vertical-align: top;\n",
       "    }\n",
       "\n",
       "    .dataframe thead th {\n",
       "        text-align: right;\n",
       "    }\n",
       "</style>\n",
       "<table border=\"1\" class=\"dataframe\">\n",
       "  <thead>\n",
       "    <tr style=\"text-align: right;\">\n",
       "      <th></th>\n",
       "      <th>title</th>\n",
       "      <th>number of rating</th>\n",
       "    </tr>\n",
       "  </thead>\n",
       "  <tbody>\n",
       "    <tr>\n",
       "      <th>0</th>\n",
       "      <td>A Light in the Storm: The Civil War Diary of ...</td>\n",
       "      <td>2</td>\n",
       "    </tr>\n",
       "    <tr>\n",
       "      <th>1</th>\n",
       "      <td>Always Have Popsicles</td>\n",
       "      <td>1</td>\n",
       "    </tr>\n",
       "    <tr>\n",
       "      <th>2</th>\n",
       "      <td>Apple Magic (The Collector's series)</td>\n",
       "      <td>1</td>\n",
       "    </tr>\n",
       "    <tr>\n",
       "      <th>3</th>\n",
       "      <td>Beyond IBM: Leadership Marketing and Finance ...</td>\n",
       "      <td>1</td>\n",
       "    </tr>\n",
       "    <tr>\n",
       "      <th>4</th>\n",
       "      <td>Clifford Visita El Hospital (Clifford El Gran...</td>\n",
       "      <td>1</td>\n",
       "    </tr>\n",
       "  </tbody>\n",
       "</table>\n",
       "</div>"
      ],
      "text/plain": [
       "                                               title  number of rating\n",
       "0   A Light in the Storm: The Civil War Diary of ...                 2\n",
       "1                              Always Have Popsicles                 1\n",
       "2               Apple Magic (The Collector's series)                 1\n",
       "3   Beyond IBM: Leadership Marketing and Finance ...                 1\n",
       "4   Clifford Visita El Hospital (Clifford El Gran...                 1"
      ]
     },
     "execution_count": 83,
     "metadata": {},
     "output_type": "execute_result"
    }
   ],
   "source": [
    "number_rating.head()"
   ]
  },
  {
   "cell_type": "code",
   "execution_count": 84,
   "id": "1ecb9e92",
   "metadata": {},
   "outputs": [],
   "source": [
    "# Creating the final rating dataset after merging the books dataset to number of rating dataset\n",
    "final_rating = ratings_with_books.merge(number_rating, on='title')"
   ]
  },
  {
   "cell_type": "code",
   "execution_count": 85,
   "id": "b7a1899f",
   "metadata": {},
   "outputs": [
    {
     "data": {
      "text/html": [
       "<div>\n",
       "<style scoped>\n",
       "    .dataframe tbody tr th:only-of-type {\n",
       "        vertical-align: middle;\n",
       "    }\n",
       "\n",
       "    .dataframe tbody tr th {\n",
       "        vertical-align: top;\n",
       "    }\n",
       "\n",
       "    .dataframe thead th {\n",
       "        text-align: right;\n",
       "    }\n",
       "</style>\n",
       "<table border=\"1\" class=\"dataframe\">\n",
       "  <thead>\n",
       "    <tr style=\"text-align: right;\">\n",
       "      <th></th>\n",
       "      <th>user_id</th>\n",
       "      <th>ISBN</th>\n",
       "      <th>rating</th>\n",
       "      <th>title</th>\n",
       "      <th>author</th>\n",
       "      <th>year</th>\n",
       "      <th>publisher</th>\n",
       "      <th>number of rating</th>\n",
       "    </tr>\n",
       "  </thead>\n",
       "  <tbody>\n",
       "    <tr>\n",
       "      <th>0</th>\n",
       "      <td>277427</td>\n",
       "      <td>002542730X</td>\n",
       "      <td>10</td>\n",
       "      <td>Politically Correct Bedtime Stories: Modern Ta...</td>\n",
       "      <td>James Finn Garner</td>\n",
       "      <td>1994</td>\n",
       "      <td>John Wiley &amp;amp; Sons Inc</td>\n",
       "      <td>82</td>\n",
       "    </tr>\n",
       "    <tr>\n",
       "      <th>1</th>\n",
       "      <td>3363</td>\n",
       "      <td>002542730X</td>\n",
       "      <td>0</td>\n",
       "      <td>Politically Correct Bedtime Stories: Modern Ta...</td>\n",
       "      <td>James Finn Garner</td>\n",
       "      <td>1994</td>\n",
       "      <td>John Wiley &amp;amp; Sons Inc</td>\n",
       "      <td>82</td>\n",
       "    </tr>\n",
       "    <tr>\n",
       "      <th>2</th>\n",
       "      <td>11676</td>\n",
       "      <td>002542730X</td>\n",
       "      <td>6</td>\n",
       "      <td>Politically Correct Bedtime Stories: Modern Ta...</td>\n",
       "      <td>James Finn Garner</td>\n",
       "      <td>1994</td>\n",
       "      <td>John Wiley &amp;amp; Sons Inc</td>\n",
       "      <td>82</td>\n",
       "    </tr>\n",
       "    <tr>\n",
       "      <th>3</th>\n",
       "      <td>12538</td>\n",
       "      <td>002542730X</td>\n",
       "      <td>10</td>\n",
       "      <td>Politically Correct Bedtime Stories: Modern Ta...</td>\n",
       "      <td>James Finn Garner</td>\n",
       "      <td>1994</td>\n",
       "      <td>John Wiley &amp;amp; Sons Inc</td>\n",
       "      <td>82</td>\n",
       "    </tr>\n",
       "    <tr>\n",
       "      <th>4</th>\n",
       "      <td>13552</td>\n",
       "      <td>002542730X</td>\n",
       "      <td>0</td>\n",
       "      <td>Politically Correct Bedtime Stories: Modern Ta...</td>\n",
       "      <td>James Finn Garner</td>\n",
       "      <td>1994</td>\n",
       "      <td>John Wiley &amp;amp; Sons Inc</td>\n",
       "      <td>82</td>\n",
       "    </tr>\n",
       "  </tbody>\n",
       "</table>\n",
       "</div>"
      ],
      "text/plain": [
       "   user_id        ISBN  rating  \\\n",
       "0   277427  002542730X      10   \n",
       "1     3363  002542730X       0   \n",
       "2    11676  002542730X       6   \n",
       "3    12538  002542730X      10   \n",
       "4    13552  002542730X       0   \n",
       "\n",
       "                                               title             author  year  \\\n",
       "0  Politically Correct Bedtime Stories: Modern Ta...  James Finn Garner  1994   \n",
       "1  Politically Correct Bedtime Stories: Modern Ta...  James Finn Garner  1994   \n",
       "2  Politically Correct Bedtime Stories: Modern Ta...  James Finn Garner  1994   \n",
       "3  Politically Correct Bedtime Stories: Modern Ta...  James Finn Garner  1994   \n",
       "4  Politically Correct Bedtime Stories: Modern Ta...  James Finn Garner  1994   \n",
       "\n",
       "                   publisher  number of rating  \n",
       "0  John Wiley &amp; Sons Inc                82  \n",
       "1  John Wiley &amp; Sons Inc                82  \n",
       "2  John Wiley &amp; Sons Inc                82  \n",
       "3  John Wiley &amp; Sons Inc                82  \n",
       "4  John Wiley &amp; Sons Inc                82  "
      ]
     },
     "execution_count": 85,
     "metadata": {},
     "output_type": "execute_result"
    }
   ],
   "source": [
    "final_rating.head()"
   ]
  },
  {
   "cell_type": "code",
   "execution_count": 86,
   "id": "96f19a7c",
   "metadata": {},
   "outputs": [
    {
     "data": {
      "text/plain": [
       "(487671, 8)"
      ]
     },
     "execution_count": 86,
     "metadata": {},
     "output_type": "execute_result"
    }
   ],
   "source": [
    "# Shape of final rating \n",
    "final_rating.shape"
   ]
  },
  {
   "cell_type": "code",
   "execution_count": 87,
   "id": "99a521d9",
   "metadata": {},
   "outputs": [],
   "source": [
    "# Let's remove the books that have rated less than 50 times \n",
    "final_rating = final_rating[final_rating['number of rating'] >=50]"
   ]
  },
  {
   "cell_type": "code",
   "execution_count": 88,
   "id": "9a6b569c",
   "metadata": {},
   "outputs": [
    {
     "data": {
      "text/plain": [
       "(61853, 8)"
      ]
     },
     "execution_count": 88,
     "metadata": {},
     "output_type": "execute_result"
    }
   ],
   "source": [
    "final_rating.shape"
   ]
  },
  {
   "cell_type": "markdown",
   "id": "ae4ed4ee",
   "metadata": {},
   "source": [
    "- So we hvae 61853 users who have rated more 200 times\n",
    "- And so we shall the those books only which have been rated more than 50 times\n",
    "<br>\n",
    "\n",
    "### Dropping the duplicates"
   ]
  },
  {
   "cell_type": "code",
   "execution_count": 89,
   "id": "0d5441ef",
   "metadata": {},
   "outputs": [],
   "source": [
    "# Dropping the duplicates data from dataframe\n",
    "final_rating = final_rating.drop_duplicates(['user_id','title'])"
   ]
  },
  {
   "cell_type": "code",
   "execution_count": 90,
   "id": "d5d2622c",
   "metadata": {},
   "outputs": [
    {
     "data": {
      "text/plain": [
       "0"
      ]
     },
     "execution_count": 90,
     "metadata": {},
     "output_type": "execute_result"
    }
   ],
   "source": [
    "# Now we have zero duplicates values left \n",
    "final_rating.duplicated().sum()"
   ]
  },
  {
   "cell_type": "code",
   "execution_count": 91,
   "id": "046221ff",
   "metadata": {},
   "outputs": [
    {
     "data": {
      "text/plain": [
       "(59850, 8)"
      ]
     },
     "execution_count": 91,
     "metadata": {},
     "output_type": "execute_result"
    }
   ],
   "source": [
    "# Shape of the final rating dataset \n",
    "final_rating.shape"
   ]
  },
  {
   "cell_type": "markdown",
   "id": "6a67af88",
   "metadata": {},
   "source": [
    "So we had some duplicates sitting in the dataframe now have been removed \n",
    "<br>\n",
    "\n",
    "### Checking the nan values"
   ]
  },
  {
   "cell_type": "code",
   "execution_count": 92,
   "id": "941182c6",
   "metadata": {
    "scrolled": true
   },
   "outputs": [
    {
     "data": {
      "text/plain": [
       "user_id             0\n",
       "ISBN                0\n",
       "rating              0\n",
       "title               0\n",
       "author              0\n",
       "year                0\n",
       "publisher           0\n",
       "number of rating    0\n",
       "dtype: int64"
      ]
     },
     "execution_count": 92,
     "metadata": {},
     "output_type": "execute_result"
    }
   ],
   "source": [
    "# CHecking the NaN values last time \n",
    "final_rating.isnull().sum()"
   ]
  },
  {
   "cell_type": "code",
   "execution_count": 93,
   "id": "a2d67b85",
   "metadata": {},
   "outputs": [],
   "source": [
    "df = final_rating.merge(users, on='user_id')"
   ]
  },
  {
   "cell_type": "code",
   "execution_count": 94,
   "id": "29fc2f6a",
   "metadata": {},
   "outputs": [],
   "source": [
    "#Filter out the age columns\n",
    "df = df[df['age']<100]"
   ]
  },
  {
   "cell_type": "code",
   "execution_count": 95,
   "id": "7048ded7",
   "metadata": {},
   "outputs": [
    {
     "data": {
      "text/plain": [
       "0"
      ]
     },
     "execution_count": 95,
     "metadata": {},
     "output_type": "execute_result"
    }
   ],
   "source": [
    "# Checking if there is any null values in the age \n",
    "df['age'].isnull().sum()"
   ]
  },
  {
   "cell_type": "code",
   "execution_count": 96,
   "id": "c8e080c0",
   "metadata": {},
   "outputs": [
    {
     "data": {
      "text/html": [
       "<div>\n",
       "<style scoped>\n",
       "    .dataframe tbody tr th:only-of-type {\n",
       "        vertical-align: middle;\n",
       "    }\n",
       "\n",
       "    .dataframe tbody tr th {\n",
       "        vertical-align: top;\n",
       "    }\n",
       "\n",
       "    .dataframe thead th {\n",
       "        text-align: right;\n",
       "    }\n",
       "</style>\n",
       "<table border=\"1\" class=\"dataframe\">\n",
       "  <thead>\n",
       "    <tr style=\"text-align: right;\">\n",
       "      <th></th>\n",
       "      <th>user_id</th>\n",
       "      <th>ISBN</th>\n",
       "      <th>rating</th>\n",
       "      <th>title</th>\n",
       "      <th>author</th>\n",
       "      <th>year</th>\n",
       "      <th>publisher</th>\n",
       "      <th>number of rating</th>\n",
       "      <th>location</th>\n",
       "      <th>age</th>\n",
       "    </tr>\n",
       "  </thead>\n",
       "  <tbody>\n",
       "    <tr>\n",
       "      <th>0</th>\n",
       "      <td>277427</td>\n",
       "      <td>002542730X</td>\n",
       "      <td>10</td>\n",
       "      <td>Politically Correct Bedtime Stories: Modern Ta...</td>\n",
       "      <td>James Finn Garner</td>\n",
       "      <td>1994</td>\n",
       "      <td>John Wiley &amp;amp; Sons Inc</td>\n",
       "      <td>82</td>\n",
       "      <td>gilbert, arizona, usa</td>\n",
       "      <td>48.0</td>\n",
       "    </tr>\n",
       "    <tr>\n",
       "      <th>1</th>\n",
       "      <td>277427</td>\n",
       "      <td>0060930535</td>\n",
       "      <td>0</td>\n",
       "      <td>The Poisonwood Bible: A Novel</td>\n",
       "      <td>Barbara Kingsolver</td>\n",
       "      <td>1999</td>\n",
       "      <td>Perennial</td>\n",
       "      <td>133</td>\n",
       "      <td>gilbert, arizona, usa</td>\n",
       "      <td>48.0</td>\n",
       "    </tr>\n",
       "    <tr>\n",
       "      <th>2</th>\n",
       "      <td>277427</td>\n",
       "      <td>0060934417</td>\n",
       "      <td>0</td>\n",
       "      <td>Bel Canto: A Novel</td>\n",
       "      <td>Ann Patchett</td>\n",
       "      <td>2002</td>\n",
       "      <td>Perennial</td>\n",
       "      <td>108</td>\n",
       "      <td>gilbert, arizona, usa</td>\n",
       "      <td>48.0</td>\n",
       "    </tr>\n",
       "    <tr>\n",
       "      <th>3</th>\n",
       "      <td>277427</td>\n",
       "      <td>0061009059</td>\n",
       "      <td>9</td>\n",
       "      <td>One for the Money (Stephanie Plum Novels (Pape...</td>\n",
       "      <td>Janet Evanovich</td>\n",
       "      <td>1995</td>\n",
       "      <td>HarperTorch</td>\n",
       "      <td>108</td>\n",
       "      <td>gilbert, arizona, usa</td>\n",
       "      <td>48.0</td>\n",
       "    </tr>\n",
       "    <tr>\n",
       "      <th>4</th>\n",
       "      <td>277427</td>\n",
       "      <td>006440188X</td>\n",
       "      <td>0</td>\n",
       "      <td>The Secret Garden</td>\n",
       "      <td>Frances Hodgson Burnett</td>\n",
       "      <td>1998</td>\n",
       "      <td>HarperTrophy</td>\n",
       "      <td>79</td>\n",
       "      <td>gilbert, arizona, usa</td>\n",
       "      <td>48.0</td>\n",
       "    </tr>\n",
       "  </tbody>\n",
       "</table>\n",
       "</div>"
      ],
      "text/plain": [
       "   user_id        ISBN  rating  \\\n",
       "0   277427  002542730X      10   \n",
       "1   277427  0060930535       0   \n",
       "2   277427  0060934417       0   \n",
       "3   277427  0061009059       9   \n",
       "4   277427  006440188X       0   \n",
       "\n",
       "                                               title                   author  \\\n",
       "0  Politically Correct Bedtime Stories: Modern Ta...        James Finn Garner   \n",
       "1                      The Poisonwood Bible: A Novel       Barbara Kingsolver   \n",
       "2                                 Bel Canto: A Novel             Ann Patchett   \n",
       "3  One for the Money (Stephanie Plum Novels (Pape...          Janet Evanovich   \n",
       "4                                  The Secret Garden  Frances Hodgson Burnett   \n",
       "\n",
       "   year                  publisher  number of rating               location  \\\n",
       "0  1994  John Wiley &amp; Sons Inc                82  gilbert, arizona, usa   \n",
       "1  1999                  Perennial               133  gilbert, arizona, usa   \n",
       "2  2002                  Perennial               108  gilbert, arizona, usa   \n",
       "3  1995                HarperTorch               108  gilbert, arizona, usa   \n",
       "4  1998               HarperTrophy                79  gilbert, arizona, usa   \n",
       "\n",
       "    age  \n",
       "0  48.0  \n",
       "1  48.0  \n",
       "2  48.0  \n",
       "3  48.0  \n",
       "4  48.0  "
      ]
     },
     "execution_count": 96,
     "metadata": {},
     "output_type": "execute_result"
    }
   ],
   "source": [
    "df.head()"
   ]
  },
  {
   "cell_type": "markdown",
   "id": "449cab1b",
   "metadata": {},
   "source": [
    "# Building a Recommendation Engine"
   ]
  },
  {
   "cell_type": "code",
   "execution_count": 97,
   "id": "73856ae0",
   "metadata": {},
   "outputs": [
    {
     "data": {
      "text/plain": [
       "(742, 888)"
      ]
     },
     "execution_count": 97,
     "metadata": {},
     "output_type": "execute_result"
    }
   ],
   "source": [
    "# Let's design a recommendar system based on final_rating dataset\n",
    "# Let's create a pivot table\n",
    "book_pivot = final_rating.pivot_table(columns ={'user_id'}, index='title', values='rating')\n",
    "book_pivot.shape"
   ]
  },
  {
   "cell_type": "code",
   "execution_count": 98,
   "id": "e57397bd",
   "metadata": {},
   "outputs": [
    {
     "data": {
      "text/html": [
       "<div>\n",
       "<style scoped>\n",
       "    .dataframe tbody tr th:only-of-type {\n",
       "        vertical-align: middle;\n",
       "    }\n",
       "\n",
       "    .dataframe tbody tr th {\n",
       "        vertical-align: top;\n",
       "    }\n",
       "\n",
       "    .dataframe thead th {\n",
       "        text-align: right;\n",
       "    }\n",
       "</style>\n",
       "<table border=\"1\" class=\"dataframe\">\n",
       "  <thead>\n",
       "    <tr style=\"text-align: right;\">\n",
       "      <th>user_id</th>\n",
       "      <th>254</th>\n",
       "      <th>2276</th>\n",
       "      <th>2766</th>\n",
       "      <th>2977</th>\n",
       "      <th>3363</th>\n",
       "      <th>3757</th>\n",
       "      <th>4017</th>\n",
       "      <th>4385</th>\n",
       "      <th>6242</th>\n",
       "      <th>6251</th>\n",
       "      <th>...</th>\n",
       "      <th>274004</th>\n",
       "      <th>274061</th>\n",
       "      <th>274301</th>\n",
       "      <th>274308</th>\n",
       "      <th>274808</th>\n",
       "      <th>275970</th>\n",
       "      <th>277427</th>\n",
       "      <th>277478</th>\n",
       "      <th>277639</th>\n",
       "      <th>278418</th>\n",
       "    </tr>\n",
       "    <tr>\n",
       "      <th>title</th>\n",
       "      <th></th>\n",
       "      <th></th>\n",
       "      <th></th>\n",
       "      <th></th>\n",
       "      <th></th>\n",
       "      <th></th>\n",
       "      <th></th>\n",
       "      <th></th>\n",
       "      <th></th>\n",
       "      <th></th>\n",
       "      <th></th>\n",
       "      <th></th>\n",
       "      <th></th>\n",
       "      <th></th>\n",
       "      <th></th>\n",
       "      <th></th>\n",
       "      <th></th>\n",
       "      <th></th>\n",
       "      <th></th>\n",
       "      <th></th>\n",
       "      <th></th>\n",
       "    </tr>\n",
       "  </thead>\n",
       "  <tbody>\n",
       "    <tr>\n",
       "      <th>1984</th>\n",
       "      <td>9.0</td>\n",
       "      <td>NaN</td>\n",
       "      <td>NaN</td>\n",
       "      <td>NaN</td>\n",
       "      <td>NaN</td>\n",
       "      <td>NaN</td>\n",
       "      <td>NaN</td>\n",
       "      <td>NaN</td>\n",
       "      <td>NaN</td>\n",
       "      <td>NaN</td>\n",
       "      <td>...</td>\n",
       "      <td>NaN</td>\n",
       "      <td>NaN</td>\n",
       "      <td>NaN</td>\n",
       "      <td>NaN</td>\n",
       "      <td>NaN</td>\n",
       "      <td>0.0</td>\n",
       "      <td>NaN</td>\n",
       "      <td>NaN</td>\n",
       "      <td>NaN</td>\n",
       "      <td>NaN</td>\n",
       "    </tr>\n",
       "    <tr>\n",
       "      <th>1st to Die: A Novel</th>\n",
       "      <td>NaN</td>\n",
       "      <td>NaN</td>\n",
       "      <td>NaN</td>\n",
       "      <td>NaN</td>\n",
       "      <td>NaN</td>\n",
       "      <td>NaN</td>\n",
       "      <td>NaN</td>\n",
       "      <td>NaN</td>\n",
       "      <td>NaN</td>\n",
       "      <td>NaN</td>\n",
       "      <td>...</td>\n",
       "      <td>NaN</td>\n",
       "      <td>NaN</td>\n",
       "      <td>NaN</td>\n",
       "      <td>NaN</td>\n",
       "      <td>NaN</td>\n",
       "      <td>NaN</td>\n",
       "      <td>NaN</td>\n",
       "      <td>NaN</td>\n",
       "      <td>NaN</td>\n",
       "      <td>NaN</td>\n",
       "    </tr>\n",
       "    <tr>\n",
       "      <th>2nd Chance</th>\n",
       "      <td>NaN</td>\n",
       "      <td>10.0</td>\n",
       "      <td>NaN</td>\n",
       "      <td>NaN</td>\n",
       "      <td>NaN</td>\n",
       "      <td>NaN</td>\n",
       "      <td>NaN</td>\n",
       "      <td>NaN</td>\n",
       "      <td>NaN</td>\n",
       "      <td>NaN</td>\n",
       "      <td>...</td>\n",
       "      <td>NaN</td>\n",
       "      <td>NaN</td>\n",
       "      <td>NaN</td>\n",
       "      <td>0.0</td>\n",
       "      <td>NaN</td>\n",
       "      <td>NaN</td>\n",
       "      <td>NaN</td>\n",
       "      <td>NaN</td>\n",
       "      <td>0.0</td>\n",
       "      <td>NaN</td>\n",
       "    </tr>\n",
       "    <tr>\n",
       "      <th>4 Blondes</th>\n",
       "      <td>NaN</td>\n",
       "      <td>NaN</td>\n",
       "      <td>NaN</td>\n",
       "      <td>NaN</td>\n",
       "      <td>NaN</td>\n",
       "      <td>NaN</td>\n",
       "      <td>NaN</td>\n",
       "      <td>NaN</td>\n",
       "      <td>NaN</td>\n",
       "      <td>0.0</td>\n",
       "      <td>...</td>\n",
       "      <td>NaN</td>\n",
       "      <td>NaN</td>\n",
       "      <td>NaN</td>\n",
       "      <td>NaN</td>\n",
       "      <td>NaN</td>\n",
       "      <td>NaN</td>\n",
       "      <td>NaN</td>\n",
       "      <td>NaN</td>\n",
       "      <td>NaN</td>\n",
       "      <td>NaN</td>\n",
       "    </tr>\n",
       "    <tr>\n",
       "      <th>84 Charing Cross Road</th>\n",
       "      <td>NaN</td>\n",
       "      <td>NaN</td>\n",
       "      <td>NaN</td>\n",
       "      <td>NaN</td>\n",
       "      <td>NaN</td>\n",
       "      <td>NaN</td>\n",
       "      <td>NaN</td>\n",
       "      <td>NaN</td>\n",
       "      <td>NaN</td>\n",
       "      <td>NaN</td>\n",
       "      <td>...</td>\n",
       "      <td>NaN</td>\n",
       "      <td>NaN</td>\n",
       "      <td>NaN</td>\n",
       "      <td>NaN</td>\n",
       "      <td>NaN</td>\n",
       "      <td>10.0</td>\n",
       "      <td>NaN</td>\n",
       "      <td>NaN</td>\n",
       "      <td>NaN</td>\n",
       "      <td>NaN</td>\n",
       "    </tr>\n",
       "  </tbody>\n",
       "</table>\n",
       "<p>5 rows × 888 columns</p>\n",
       "</div>"
      ],
      "text/plain": [
       "user_id                254     2276    2766    2977    3363    3757    4017    \\\n",
       "title                                                                           \n",
       "1984                      9.0     NaN     NaN     NaN     NaN     NaN     NaN   \n",
       "1st to Die: A Novel       NaN     NaN     NaN     NaN     NaN     NaN     NaN   \n",
       "2nd Chance                NaN    10.0     NaN     NaN     NaN     NaN     NaN   \n",
       "4 Blondes                 NaN     NaN     NaN     NaN     NaN     NaN     NaN   \n",
       "84 Charing Cross Road     NaN     NaN     NaN     NaN     NaN     NaN     NaN   \n",
       "\n",
       "user_id                4385    6242    6251    ...  274004  274061  274301  \\\n",
       "title                                          ...                           \n",
       "1984                      NaN     NaN     NaN  ...     NaN     NaN     NaN   \n",
       "1st to Die: A Novel       NaN     NaN     NaN  ...     NaN     NaN     NaN   \n",
       "2nd Chance                NaN     NaN     NaN  ...     NaN     NaN     NaN   \n",
       "4 Blondes                 NaN     NaN     0.0  ...     NaN     NaN     NaN   \n",
       "84 Charing Cross Road     NaN     NaN     NaN  ...     NaN     NaN     NaN   \n",
       "\n",
       "user_id                274308  274808  275970  277427  277478  277639  278418  \n",
       "title                                                                          \n",
       "1984                      NaN     NaN     0.0     NaN     NaN     NaN     NaN  \n",
       "1st to Die: A Novel       NaN     NaN     NaN     NaN     NaN     NaN     NaN  \n",
       "2nd Chance                0.0     NaN     NaN     NaN     NaN     0.0     NaN  \n",
       "4 Blondes                 NaN     NaN     NaN     NaN     NaN     NaN     NaN  \n",
       "84 Charing Cross Road     NaN     NaN    10.0     NaN     NaN     NaN     NaN  \n",
       "\n",
       "[5 rows x 888 columns]"
      ]
     },
     "execution_count": 98,
     "metadata": {},
     "output_type": "execute_result"
    }
   ],
   "source": [
    "# Checking the Pivot table \n",
    "book_pivot.head()"
   ]
  },
  {
   "cell_type": "code",
   "execution_count": 99,
   "id": "3e01004c",
   "metadata": {},
   "outputs": [
    {
     "data": {
      "text/html": [
       "<div>\n",
       "<style scoped>\n",
       "    .dataframe tbody tr th:only-of-type {\n",
       "        vertical-align: middle;\n",
       "    }\n",
       "\n",
       "    .dataframe tbody tr th {\n",
       "        vertical-align: top;\n",
       "    }\n",
       "\n",
       "    .dataframe thead th {\n",
       "        text-align: right;\n",
       "    }\n",
       "</style>\n",
       "<table border=\"1\" class=\"dataframe\">\n",
       "  <thead>\n",
       "    <tr style=\"text-align: right;\">\n",
       "      <th>user_id</th>\n",
       "      <th>254</th>\n",
       "      <th>2276</th>\n",
       "      <th>2766</th>\n",
       "      <th>2977</th>\n",
       "      <th>3363</th>\n",
       "      <th>3757</th>\n",
       "      <th>4017</th>\n",
       "      <th>4385</th>\n",
       "      <th>6242</th>\n",
       "      <th>6251</th>\n",
       "      <th>...</th>\n",
       "      <th>274004</th>\n",
       "      <th>274061</th>\n",
       "      <th>274301</th>\n",
       "      <th>274308</th>\n",
       "      <th>274808</th>\n",
       "      <th>275970</th>\n",
       "      <th>277427</th>\n",
       "      <th>277478</th>\n",
       "      <th>277639</th>\n",
       "      <th>278418</th>\n",
       "    </tr>\n",
       "    <tr>\n",
       "      <th>title</th>\n",
       "      <th></th>\n",
       "      <th></th>\n",
       "      <th></th>\n",
       "      <th></th>\n",
       "      <th></th>\n",
       "      <th></th>\n",
       "      <th></th>\n",
       "      <th></th>\n",
       "      <th></th>\n",
       "      <th></th>\n",
       "      <th></th>\n",
       "      <th></th>\n",
       "      <th></th>\n",
       "      <th></th>\n",
       "      <th></th>\n",
       "      <th></th>\n",
       "      <th></th>\n",
       "      <th></th>\n",
       "      <th></th>\n",
       "      <th></th>\n",
       "      <th></th>\n",
       "    </tr>\n",
       "  </thead>\n",
       "  <tbody>\n",
       "    <tr>\n",
       "      <th>1984</th>\n",
       "      <td>9.0</td>\n",
       "      <td>0.0</td>\n",
       "      <td>0.0</td>\n",
       "      <td>0.0</td>\n",
       "      <td>0.0</td>\n",
       "      <td>0.0</td>\n",
       "      <td>0.0</td>\n",
       "      <td>0.0</td>\n",
       "      <td>0.0</td>\n",
       "      <td>0.0</td>\n",
       "      <td>...</td>\n",
       "      <td>0.0</td>\n",
       "      <td>0.0</td>\n",
       "      <td>0.0</td>\n",
       "      <td>0.0</td>\n",
       "      <td>0.0</td>\n",
       "      <td>0.0</td>\n",
       "      <td>0.0</td>\n",
       "      <td>0.0</td>\n",
       "      <td>0.0</td>\n",
       "      <td>0.0</td>\n",
       "    </tr>\n",
       "    <tr>\n",
       "      <th>1st to Die: A Novel</th>\n",
       "      <td>0.0</td>\n",
       "      <td>0.0</td>\n",
       "      <td>0.0</td>\n",
       "      <td>0.0</td>\n",
       "      <td>0.0</td>\n",
       "      <td>0.0</td>\n",
       "      <td>0.0</td>\n",
       "      <td>0.0</td>\n",
       "      <td>0.0</td>\n",
       "      <td>0.0</td>\n",
       "      <td>...</td>\n",
       "      <td>0.0</td>\n",
       "      <td>0.0</td>\n",
       "      <td>0.0</td>\n",
       "      <td>0.0</td>\n",
       "      <td>0.0</td>\n",
       "      <td>0.0</td>\n",
       "      <td>0.0</td>\n",
       "      <td>0.0</td>\n",
       "      <td>0.0</td>\n",
       "      <td>0.0</td>\n",
       "    </tr>\n",
       "    <tr>\n",
       "      <th>2nd Chance</th>\n",
       "      <td>0.0</td>\n",
       "      <td>10.0</td>\n",
       "      <td>0.0</td>\n",
       "      <td>0.0</td>\n",
       "      <td>0.0</td>\n",
       "      <td>0.0</td>\n",
       "      <td>0.0</td>\n",
       "      <td>0.0</td>\n",
       "      <td>0.0</td>\n",
       "      <td>0.0</td>\n",
       "      <td>...</td>\n",
       "      <td>0.0</td>\n",
       "      <td>0.0</td>\n",
       "      <td>0.0</td>\n",
       "      <td>0.0</td>\n",
       "      <td>0.0</td>\n",
       "      <td>0.0</td>\n",
       "      <td>0.0</td>\n",
       "      <td>0.0</td>\n",
       "      <td>0.0</td>\n",
       "      <td>0.0</td>\n",
       "    </tr>\n",
       "    <tr>\n",
       "      <th>4 Blondes</th>\n",
       "      <td>0.0</td>\n",
       "      <td>0.0</td>\n",
       "      <td>0.0</td>\n",
       "      <td>0.0</td>\n",
       "      <td>0.0</td>\n",
       "      <td>0.0</td>\n",
       "      <td>0.0</td>\n",
       "      <td>0.0</td>\n",
       "      <td>0.0</td>\n",
       "      <td>0.0</td>\n",
       "      <td>...</td>\n",
       "      <td>0.0</td>\n",
       "      <td>0.0</td>\n",
       "      <td>0.0</td>\n",
       "      <td>0.0</td>\n",
       "      <td>0.0</td>\n",
       "      <td>0.0</td>\n",
       "      <td>0.0</td>\n",
       "      <td>0.0</td>\n",
       "      <td>0.0</td>\n",
       "      <td>0.0</td>\n",
       "    </tr>\n",
       "    <tr>\n",
       "      <th>84 Charing Cross Road</th>\n",
       "      <td>0.0</td>\n",
       "      <td>0.0</td>\n",
       "      <td>0.0</td>\n",
       "      <td>0.0</td>\n",
       "      <td>0.0</td>\n",
       "      <td>0.0</td>\n",
       "      <td>0.0</td>\n",
       "      <td>0.0</td>\n",
       "      <td>0.0</td>\n",
       "      <td>0.0</td>\n",
       "      <td>...</td>\n",
       "      <td>0.0</td>\n",
       "      <td>0.0</td>\n",
       "      <td>0.0</td>\n",
       "      <td>0.0</td>\n",
       "      <td>0.0</td>\n",
       "      <td>10.0</td>\n",
       "      <td>0.0</td>\n",
       "      <td>0.0</td>\n",
       "      <td>0.0</td>\n",
       "      <td>0.0</td>\n",
       "    </tr>\n",
       "  </tbody>\n",
       "</table>\n",
       "<p>5 rows × 888 columns</p>\n",
       "</div>"
      ],
      "text/plain": [
       "user_id                254     2276    2766    2977    3363    3757    4017    \\\n",
       "title                                                                           \n",
       "1984                      9.0     0.0     0.0     0.0     0.0     0.0     0.0   \n",
       "1st to Die: A Novel       0.0     0.0     0.0     0.0     0.0     0.0     0.0   \n",
       "2nd Chance                0.0    10.0     0.0     0.0     0.0     0.0     0.0   \n",
       "4 Blondes                 0.0     0.0     0.0     0.0     0.0     0.0     0.0   \n",
       "84 Charing Cross Road     0.0     0.0     0.0     0.0     0.0     0.0     0.0   \n",
       "\n",
       "user_id                4385    6242    6251    ...  274004  274061  274301  \\\n",
       "title                                          ...                           \n",
       "1984                      0.0     0.0     0.0  ...     0.0     0.0     0.0   \n",
       "1st to Die: A Novel       0.0     0.0     0.0  ...     0.0     0.0     0.0   \n",
       "2nd Chance                0.0     0.0     0.0  ...     0.0     0.0     0.0   \n",
       "4 Blondes                 0.0     0.0     0.0  ...     0.0     0.0     0.0   \n",
       "84 Charing Cross Road     0.0     0.0     0.0  ...     0.0     0.0     0.0   \n",
       "\n",
       "user_id                274308  274808  275970  277427  277478  277639  278418  \n",
       "title                                                                          \n",
       "1984                      0.0     0.0     0.0     0.0     0.0     0.0     0.0  \n",
       "1st to Die: A Novel       0.0     0.0     0.0     0.0     0.0     0.0     0.0  \n",
       "2nd Chance                0.0     0.0     0.0     0.0     0.0     0.0     0.0  \n",
       "4 Blondes                 0.0     0.0     0.0     0.0     0.0     0.0     0.0  \n",
       "84 Charing Cross Road     0.0     0.0    10.0     0.0     0.0     0.0     0.0  \n",
       "\n",
       "[5 rows x 888 columns]"
      ]
     },
     "execution_count": 99,
     "metadata": {},
     "output_type": "execute_result"
    }
   ],
   "source": [
    "# Filling nan values with 0\n",
    "book_pivot = book_pivot.fillna(0)\n",
    "book_pivot.head()"
   ]
  },
  {
   "cell_type": "markdown",
   "id": "e9e6a3cf",
   "metadata": {},
   "source": [
    "## Importing the necessory libraries  "
   ]
  },
  {
   "cell_type": "code",
   "execution_count": 100,
   "id": "198441b7",
   "metadata": {},
   "outputs": [],
   "source": [
    "# Let's cluster this pivot table using NearestNeighbors\n",
    "# Let's decompose this matrix into sparse matrix to get rid from 0 \n",
    "\n",
    "from scipy.sparse import csr_matrix"
   ]
  },
  {
   "cell_type": "code",
   "execution_count": 101,
   "id": "e2feef85",
   "metadata": {},
   "outputs": [],
   "source": [
    "# Creating the sparse matrix \n",
    "book_sparse = csr_matrix(book_pivot)"
   ]
  },
  {
   "cell_type": "code",
   "execution_count": 102,
   "id": "b0c9f5ba",
   "metadata": {},
   "outputs": [
    {
     "data": {
      "text/plain": [
       "scipy.sparse.csr.csr_matrix"
      ]
     },
     "execution_count": 102,
     "metadata": {},
     "output_type": "execute_result"
    }
   ],
   "source": [
    "type(book_sparse)"
   ]
  },
  {
   "cell_type": "markdown",
   "id": "28c2160b",
   "metadata": {},
   "source": [
    "## Importing Nearest Neighbors algorithm "
   ]
  },
  {
   "cell_type": "code",
   "execution_count": 103,
   "id": "49f4fc33",
   "metadata": {},
   "outputs": [],
   "source": [
    "# Algorithm\n",
    "from sklearn.neighbors import NearestNeighbors"
   ]
  },
  {
   "cell_type": "code",
   "execution_count": 104,
   "id": "a38c3b9a",
   "metadata": {},
   "outputs": [],
   "source": [
    "# Creating instance of the model with type brute as we want to apply this on whole matrix dataset \n",
    "model = NearestNeighbors(algorithm='brute')"
   ]
  },
  {
   "cell_type": "code",
   "execution_count": 105,
   "id": "df7010f6",
   "metadata": {},
   "outputs": [
    {
     "data": {
      "text/plain": [
       "NearestNeighbors(algorithm='brute')"
      ]
     },
     "execution_count": 105,
     "metadata": {},
     "output_type": "execute_result"
    }
   ],
   "source": [
    "# Training the model\n",
    "model.fit(book_sparse)"
   ]
  },
  {
   "cell_type": "code",
   "execution_count": 106,
   "id": "9d597b68",
   "metadata": {},
   "outputs": [],
   "source": [
    "# Distances store the most nearest books in numpy array and suggestions contains the ISBN number of them\n",
    "# Checking the distance and suggestions at ISBN of 237\n",
    "distances, suggestions = model.kneighbors(book_pivot.iloc[237,:].values.reshape(1,-1), n_neighbors=6)"
   ]
  },
  {
   "cell_type": "code",
   "execution_count": 107,
   "id": "2f5c5523",
   "metadata": {},
   "outputs": [
    {
     "data": {
      "text/plain": [
       "array([[ 0.        , 68.78953409, 69.5413546 , 72.64296249, 76.83098333,\n",
       "        77.28518616]])"
      ]
     },
     "execution_count": 107,
     "metadata": {},
     "output_type": "execute_result"
    }
   ],
   "source": [
    "distances"
   ]
  },
  {
   "cell_type": "code",
   "execution_count": 108,
   "id": "dfe41546",
   "metadata": {},
   "outputs": [
    {
     "data": {
      "text/plain": [
       "array([[237, 240, 238, 241, 184, 536]], dtype=int64)"
      ]
     },
     "execution_count": 108,
     "metadata": {},
     "output_type": "execute_result"
    }
   ],
   "source": [
    "suggestions"
   ]
  },
  {
   "cell_type": "code",
   "execution_count": 109,
   "id": "eaf9f807",
   "metadata": {},
   "outputs": [
    {
     "name": "stdout",
     "output_type": "stream",
     "text": [
      "Index(['Harry Potter and the Chamber of Secrets (Book 2)',\n",
      "       'Harry Potter and the Prisoner of Azkaban (Book 3)',\n",
      "       'Harry Potter and the Goblet of Fire (Book 4)',\n",
      "       'Harry Potter and the Sorcerer's Stone (Book 1)', 'Exclusive',\n",
      "       'The Cradle Will Fall'],\n",
      "      dtype='object', name='title')\n"
     ]
    }
   ],
   "source": [
    "# Printing the recommended books \n",
    "for i in range(len(suggestions)):\n",
    "    print(book_pivot.index[suggestions[i]])"
   ]
  },
  {
   "cell_type": "markdown",
   "id": "9c939b0e",
   "metadata": {},
   "source": [
    "Hurrey! Testing is successful now let's create a function to perform recommendation "
   ]
  },
  {
   "cell_type": "code",
   "execution_count": 110,
   "id": "388f3030",
   "metadata": {},
   "outputs": [],
   "source": [
    "# Function that takes input as book name and recommends book to users \n",
    "def recommend_books(name):\n",
    "    book_id = np.where(book_pivot.index== name)[0][0]\n",
    "    distances, suggestions = model.kneighbors(book_pivot.iloc[book_id,:].values.reshape(1,-1), n_neighbors=6)\n",
    "    \n",
    "    for i in range(len(suggestions)):\n",
    "        print(book_pivot.index[suggestions[i]])\n",
    "        print"
   ]
  },
  {
   "cell_type": "code",
   "execution_count": 111,
   "id": "f22dce6f",
   "metadata": {},
   "outputs": [
    {
     "name": "stdout",
     "output_type": "stream",
     "text": [
      "Index(['Animal Farm', 'Exclusive', 'Jacob Have I Loved', 'Second Nature',\n",
      "       'Pleading Guilty', 'No Safe Place'],\n",
      "      dtype='object', name='title')\n"
     ]
    }
   ],
   "source": [
    "# Let's test this for the one of the political books Animal Farm and see the recommendation\n",
    "recommend_books('Animal Farm')"
   ]
  },
  {
   "cell_type": "code",
   "execution_count": 112,
   "id": "9e7a8d94",
   "metadata": {},
   "outputs": [
    {
     "name": "stdout",
     "output_type": "stream",
     "text": [
      "Index(['Wild Animus', 'Exclusive', 'No Safe Place', 'The First Counsel',\n",
      "       'Jacob Have I Loved', 'Long After Midnight'],\n",
      "      dtype='object', name='title')\n"
     ]
    }
   ],
   "source": [
    "recommend_books('Wild Animus')"
   ]
  },
  {
   "cell_type": "code",
   "execution_count": null,
   "id": "b1db63fa",
   "metadata": {},
   "outputs": [],
   "source": []
  },
  {
   "cell_type": "markdown",
   "id": "a865c308",
   "metadata": {},
   "source": [
    "# Popularity based filtering "
   ]
  },
  {
   "cell_type": "code",
   "execution_count": 202,
   "id": "813bd936",
   "metadata": {},
   "outputs": [
    {
     "data": {
      "text/plain": [
       "(46328, 10)"
      ]
     },
     "execution_count": 202,
     "metadata": {},
     "output_type": "execute_result"
    }
   ],
   "source": [
    "df.shape"
   ]
  },
  {
   "cell_type": "code",
   "execution_count": 203,
   "id": "ea2c172b",
   "metadata": {},
   "outputs": [],
   "source": [
    "df = df.drop_duplicates()"
   ]
  },
  {
   "cell_type": "code",
   "execution_count": 204,
   "id": "c617db24",
   "metadata": {},
   "outputs": [
    {
     "data": {
      "text/plain": [
       "(46328, 10)"
      ]
     },
     "execution_count": 204,
     "metadata": {},
     "output_type": "execute_result"
    }
   ],
   "source": [
    "df.shape"
   ]
  },
  {
   "cell_type": "code",
   "execution_count": 206,
   "id": "e45540cb",
   "metadata": {},
   "outputs": [],
   "source": [
    "df=df[df['rating']!=0]"
   ]
  },
  {
   "cell_type": "code",
   "execution_count": 207,
   "id": "c96284b9",
   "metadata": {},
   "outputs": [
    {
     "data": {
      "text/plain": [
       "(11159, 10)"
      ]
     },
     "execution_count": 207,
     "metadata": {},
     "output_type": "execute_result"
    }
   ],
   "source": [
    "df.shape"
   ]
  },
  {
   "cell_type": "code",
   "execution_count": null,
   "id": "d32726dd",
   "metadata": {},
   "outputs": [],
   "source": [
    "  "
   ]
  }
 ],
 "metadata": {
  "kernelspec": {
   "display_name": "Python 3",
   "language": "python",
   "name": "python3"
  },
  "language_info": {
   "codemirror_mode": {
    "name": "ipython",
    "version": 3
   },
   "file_extension": ".py",
   "mimetype": "text/x-python",
   "name": "python",
   "nbconvert_exporter": "python",
   "pygments_lexer": "ipython3",
   "version": "3.8.8"
  }
 },
 "nbformat": 4,
 "nbformat_minor": 5
}
